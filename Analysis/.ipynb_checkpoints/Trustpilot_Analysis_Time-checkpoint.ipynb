{
 "cells": [
  {
   "cell_type": "markdown",
   "metadata": {},
   "source": [
    "# Data gathering"
   ]
  },
  {
   "cell_type": "code",
   "execution_count": 1,
   "metadata": {},
   "outputs": [],
   "source": [
    "import numpy as np\n",
    "from tpreviews import GetReviews #to use the tpreviews module place the tprevies.py file in the working directory\n",
    "import pandas as pd\n",
    "from afinn import Afinn\n",
    "\n",
    "#ONLY EXECUTE ONCE!! We gathered the data on 24-08-2018\n",
    "\n",
    "#d = GetReviews() \n",
    "#d['www.jensens.com'] = '469070ae0000640005000ddd'\n",
    "#print(d)"
   ]
  },
  {
   "cell_type": "code",
   "execution_count": 2,
   "metadata": {
    "scrolled": false
   },
   "outputs": [],
   "source": [
    "#retured_dict = d.gather_data('dk') #Here we specify that we want reviews in Danish"
   ]
  },
  {
   "cell_type": "markdown",
   "metadata": {},
   "source": [
    "### Save to .csv"
   ]
  },
  {
   "cell_type": "code",
   "execution_count": 3,
   "metadata": {},
   "outputs": [],
   "source": [
    "#df = pd.DataFrame(retured_dict) \n",
    "#df.to_csv(\"Trustpilot_Jensens_180824.csv\", index = False)"
   ]
  },
  {
   "cell_type": "markdown",
   "metadata": {},
   "source": [
    "### Read .csv and remove the reviewer name"
   ]
  },
  {
   "cell_type": "code",
   "execution_count": 4,
   "metadata": {},
   "outputs": [],
   "source": [
    "#data = pd.read_csv(\"Trustpilot_Jensens_180824.csv\")\n",
    "\n",
    "#remove the reviewer name and save again\n",
    "\n",
    "#data = data.drop('reviewerName', axis = 1)\n",
    "#data.to_csv(\"Trustpilot_Jensens_180824_nonames.csv\", index = False)\n",
    "\n",
    "#read the new data\n",
    "data = pd.read_csv(\"Trustpilot_Jensens_180824_nonames.csv\")"
   ]
  },
  {
   "cell_type": "markdown",
   "metadata": {},
   "source": [
    "### Inspect the data"
   ]
  },
  {
   "cell_type": "code",
   "execution_count": 5,
   "metadata": {},
   "outputs": [
    {
     "name": "stdout",
     "output_type": "stream",
     "text": [
      "(3922, 6) \n",
      "\n",
      "Index(['headline', 'inLanguage', 'datePublished', 'reviewBody', 'ratingValue',\n",
      "       'Company'],\n",
      "      dtype='object') \n",
      "\n",
      "headline         object\n",
      "inLanguage       object\n",
      "datePublished    object\n",
      "reviewBody       object\n",
      "ratingValue       int64\n",
      "Company          object\n",
      "dtype: object \n",
      "\n",
      "                               headline inLanguage         datePublished  \\\n",
      "0  Helt fantastisk middagsoplevelse på…         da  2018-08-23T12:28:51Z   \n",
      "1                        Fin til prisen         da  2018-08-22T11:16:41Z   \n",
      "2                           God service         da  2018-08-22T11:14:21Z   \n",
      "3                 Ganske fin til prisen         da  2018-08-22T11:13:58Z   \n",
      "4                       Skidt oplevelse         da  2018-08-22T06:25:14Z   \n",
      "\n",
      "                                          reviewBody  ratingValue  \\\n",
      "0  Helt fantastisk middagsoplevelse på Jensens Bø...            5   \n",
      "1         Ganske fin mad og okay service til prisen.            3   \n",
      "2  Ok god service. Bøffen var lidt saltet og sala...            3   \n",
      "3               Ganske fin til prisen. Venlig tjener            3   \n",
      "4  Vi har nu spist hos jer. Reklamens magt, om ma...            1   \n",
      "\n",
      "           Company  \n",
      "0  www.jensens.com  \n",
      "1  www.jensens.com  \n",
      "2  www.jensens.com  \n",
      "3  www.jensens.com  \n",
      "4  www.jensens.com  \n"
     ]
    }
   ],
   "source": [
    "print(data.shape, '\\n')\n",
    "print(data.columns, '\\n') #no reviewer name anymore!\n",
    "print(data.dtypes, '\\n')\n",
    "print(data.head())"
   ]
  },
  {
   "cell_type": "markdown",
   "metadata": {},
   "source": [
    "<br><br><br><br>\n",
    "# Data Description"
   ]
  },
  {
   "cell_type": "markdown",
   "metadata": {},
   "source": [
    "<br><br>\n",
    "## Compute new variables for descriptives and analysis"
   ]
  },
  {
   "cell_type": "markdown",
   "metadata": {},
   "source": [
    "### Get the Afinn scores for each review"
   ]
  },
  {
   "cell_type": "code",
   "execution_count": 6,
   "metadata": {},
   "outputs": [],
   "source": [
    "afinn = Afinn()\n",
    "scores = [] #initiate score list\n",
    "\n",
    "for i in range(0, data.shape[0]):\n",
    "    score = afinn.score(str(data['reviewBody'].iloc[i])) #Compute an afinn score for each review in the dataset\n",
    "    scores.append(score) #Append score to score list\n",
    "\n",
    "data['Afinn_score'] = scores #Create a new variable with the afinn scores in our dataset\n",
    "data['Afinn_binary'] = data['Afinn_score'].apply(lambda x: 1 if x>0 else 0) #Dichotomize  \n",
    "#(perhaps determine cutpoint where afinn score has rating 3?--> no then fit will be perfect for afinn....)"
   ]
  },
  {
   "cell_type": "code",
   "execution_count": 7,
   "metadata": {},
   "outputs": [
    {
     "data": {
      "text/plain": [
       "count    3922.000000\n",
       "mean        0.188169\n",
       "std         0.390897\n",
       "min         0.000000\n",
       "25%         0.000000\n",
       "50%         0.000000\n",
       "75%         0.000000\n",
       "max         1.000000\n",
       "Name: Afinn_binary, dtype: float64"
      ]
     },
     "execution_count": 7,
     "metadata": {},
     "output_type": "execute_result"
    }
   ],
   "source": [
    "data['Afinn_binary'].describe() #See if dichotomization worked"
   ]
  },
  {
   "cell_type": "markdown",
   "metadata": {},
   "source": [
    "### Other variables"
   ]
  },
  {
   "cell_type": "code",
   "execution_count": 8,
   "metadata": {},
   "outputs": [
    {
     "name": "stdout",
     "output_type": "stream",
     "text": [
      "count    3922.000000\n",
      "mean        0.359001\n",
      "std         0.479769\n",
      "min         0.000000\n",
      "25%         0.000000\n",
      "50%         0.000000\n",
      "75%         1.000000\n",
      "max         1.000000\n",
      "Name: sept14, dtype: float64\n",
      "count    3922.000000\n",
      "mean        0.261346\n",
      "std         0.439424\n",
      "min         0.000000\n",
      "25%         0.000000\n",
      "50%         0.000000\n",
      "75%         1.000000\n",
      "max         1.000000\n",
      "Name: before_sept14, dtype: float64\n",
      "count    3922.000000\n",
      "mean        0.380418\n",
      "std         0.485552\n",
      "min         0.000000\n",
      "25%         0.000000\n",
      "50%         0.000000\n",
      "75%         1.000000\n",
      "max         1.000000\n",
      "Name: after_sept14, dtype: float64\n"
     ]
    }
   ],
   "source": [
    "#First compute time variables\n",
    "data['datetime'] = pd.to_datetime(data['datePublished'].astype(str))\n",
    "data['year'] = data['datetime'].dt.year\n",
    "data['month'] = data['datetime'].dt.month\n",
    "data['day'] = data['datetime'].dt.day\n",
    "\n",
    "#convert ratings to -1, 0, 1\n",
    "def func(x):\n",
    "    if  x <= 2:\n",
    "        return -1\n",
    "    elif x == 3:\n",
    "        return 0\n",
    "    return 1\n",
    "\n",
    "data['rating_c'] = data['ratingValue'].apply(func) #split in 3 \n",
    "data['rating_binary'] = data['rating_c'].apply(lambda x: 1 if x>0 else 0) #dichotomize ratings to 0-1\n",
    "\n",
    "\n",
    "#Set the index without throwing away variables\n",
    "data.set_index(['year', 'month', 'day'], inplace = True, drop = False)\n",
    "\n",
    "#Compute day means, dat sums, day counts, other variables\n",
    "data['daymean_afinn'] = data.groupby(level=['year', 'month', 'day']).mean()['Afinn_score'] #daymean of Afinn_score\n",
    "data['daymean_rating'] = data.groupby(level=['year', 'month', 'day']).mean()['rating_c'] #daymean of ratings\n",
    "data['no_rev'] = data.groupby(level=['year', 'month', 'day']).count()['reviewBody'] #number of reviews per day\n",
    "data['len_rev'] = data['reviewBody'].apply(len) #length of a review\n",
    "data['daysum_afinn'] = data.groupby(level=['year', 'month', 'day']).sum()['Afinn_score'] #compute summed dayscore\n",
    "data['daysum_rating'] = data.groupby(level=['year', 'month', 'day']).sum()['rating_c'] \n",
    "\n",
    "#Make a variable indicating whether the review is from sept 2014, before and after.\n",
    "data['sept14'] = ((data['datetime'] > '2014-08-31') & (data['datetime'] < '2014-10-01')).replace(False, 0)\n",
    "data['before_sept14'] = (data['datetime'] < '2014-09-01').replace(False, 0)\n",
    "data['after_sept14'] = (data['datetime'] > '2014-09-30').replace(False, 0)\n",
    "\n",
    "print(data['sept14'].describe()) #35.9% of all reviews written in sept 2014\n",
    "print(data['before_sept14'].describe())#26% of all reviews written before sept 2014\n",
    "print(data['after_sept14'].describe())#38% of all review written after sept 2014\n",
    "\n",
    "\n",
    "#Create categorical variable with before during and after 2014 values\n",
    "time = data[['before_sept14', 'sept14', 'after_sept14']].idxmax(axis=1)\n",
    "time = time.astype(dtype = 'category')\n",
    "\n",
    "time = time.cat.rename_categories(['After Sept 2014', 'Before Sept 2014', 'Sept 2014']) #rename categories\n",
    "time= time.cat.reorder_categories(['Before Sept 2014', 'Sept 2014', 'After Sept 2014']) #reorder categories\n",
    "data['time_cat'] = time"
   ]
  },
  {
   "cell_type": "markdown",
   "metadata": {},
   "source": [
    "<br><br><br><br>\n",
    "## Descriptives and figures"
   ]
  },
  {
   "cell_type": "code",
   "execution_count": 9,
   "metadata": {},
   "outputs": [],
   "source": [
    "%matplotlib inline\n",
    "import matplotlib.pyplot as plt\n",
    "import seaborn as sns\n",
    "import matplotlib.dates as mdates\n",
    "import matplotlib.ticker as ticker"
   ]
  },
  {
   "cell_type": "markdown",
   "metadata": {},
   "source": [
    "## Get the cumulative mean of the ratings and plot those"
   ]
  },
  {
   "cell_type": "code",
   "execution_count": 10,
   "metadata": {},
   "outputs": [
    {
     "name": "stderr",
     "output_type": "stream",
     "text": [
      "C:\\Users\\Jolien\\Anaconda3\\lib\\site-packages\\matplotlib\\figure.py:2267: UserWarning: This figure includes Axes that are not compatible with tight_layout, so results might be incorrect.\n",
      "  warnings.warn(\"This figure includes Axes that are not compatible \"\n"
     ]
    },
    {
     "data": {
      "image/png": "[encoded data removed]",
      "text/plain": [
       "<Figure size 792x360 with 2 Axes>"
      ]
     },
     "metadata": {},
     "output_type": "display_data"
    }
   ],
   "source": [
    "cum_mean = data.sort_values('datetime', ascending = True)['ratingValue'].expanding().mean()\n",
    "cum_ratings =  data.sort_values('datetime', ascending = True).expanding().count()['headline']\n",
    "data_sorted = data.sort_values('datetime', ascending = True)\n",
    "data_sorted['cum_mean'] = cum_mean\n",
    "data_sorted['cum_ratings'] = cum_ratings\n",
    "\n",
    "\n",
    "# Creating variables for plots\n",
    "data_sorted_sept = data_sorted[data_sorted[\"sept14\"] == 1]\n",
    "data_sorted_before = data_sorted[data_sorted['before_sept14'] == 1]\n",
    "data_sortes_after = data_sorted[data_sorted['after_sept14'] == 1]\n",
    "\n",
    "x1 = data_sorted[\"datetime\"] #first figure\n",
    "y1 = data_sorted[\"cum_mean\"]\n",
    "x2 = data_sorted_sept[\"datetime\"] #second figure\n",
    "y2 = data_sorted_sept[\"cum_mean\"]\n",
    "\n",
    "x3 = data_sorted[\"datetime\"] #third figure\n",
    "y3 = data_sorted[\"cum_ratings\"]\n",
    "x4 = data_sorted_sept[\"datetime\"] #fourth figure\n",
    "y4 = data_sorted_sept[\"cum_ratings\"]\n",
    "\n",
    "\n",
    "#creating canvas for figures\n",
    "fig, ax1 = plt.subplots(1,1, figsize=(11,5))\n",
    "plt.rcParams.update({'font.size': 11})\n",
    "\n",
    "\n",
    "ax1.plot(x1,y1)\n",
    "ax1.plot(x2, y2, color = 'red')\n",
    "ax1.set_ylabel(\"Year\", fontsize=16)\n",
    "ax1.set_ylabel(\"Cumulative mean rating\", fontsize=16)\n",
    "ax1.tick_params(axis='both', which='major', labelsize=12)\n",
    "plt.yticks([ 0, 1, 2, 3, 4, 5])\n",
    "ax1.spines['top'].set_visible(False) #remove borders\n",
    "ax1.spines['right'].set_visible(False)\n",
    "ax1.spines['bottom'].set_visible(True)\n",
    "ax1.spines['left'].set_visible(True)\n",
    "\n",
    "plt.tight_layout()\n",
    "\n",
    "\n",
    "myFmt = mdates.DateFormatter('%d/%m/%y')\n",
    "\n",
    "ax2 = fig.add_axes([0.7, 0.7, 0.25, 0.2])\n",
    "ax2.plot(x2, y2, color = 'red')\n",
    "ax2.xaxis.set_major_formatter(myFmt)\n",
    "ax2.xaxis.set_major_locator(ticker.MaxNLocator(4))\n",
    "\n",
    "ax2.tick_params(\n",
    "    axis='x',          \n",
    "    which='both',     \n",
    "    bottom=True,      \n",
    "    top=False,         \n",
    "    labelbottom=True, direction='out', length=3, width=3, labelrotation=0.12) \n",
    "\n",
    "\n",
    "plt.tight_layout()\n",
    "\n",
    "fig.savefig(\"RatingTimeline.png\")"
   ]
  },
  {
   "cell_type": "code",
   "execution_count": 11,
   "metadata": {},
   "outputs": [
    {
     "data": {
      "image/png": "[encoded data removed]",
      "text/plain": [
       "<Figure size 792x360 with 1 Axes>"
      ]
     },
     "metadata": {},
     "output_type": "display_data"
    }
   ],
   "source": [
    "x1 = data_sorted[\"datetime\"] #first figure\n",
    "y1 = data_sorted[\"cum_ratings\"]\n",
    "x2 = data_sorted_sept[\"datetime\"] #second figure\n",
    "y2 = data_sorted_sept[\"cum_ratings\"]\n",
    "\n",
    "\n",
    "#creating canvas for figures\n",
    "fig, ax1 = plt.subplots(1,1, figsize=(11,5))\n",
    "plt.rcParams.update({'font.size': 11})\n",
    "\n",
    "\n",
    "ax1.plot(x1,y1)\n",
    "ax1.plot(x2, y2, color = 'red')\n",
    "ax1.set_ylabel(\"Year\", fontsize=16)\n",
    "ax1.set_ylabel(\"Cumulative reviews\", fontsize=16)\n",
    "ax1.tick_params(axis='both', which='major', labelsize=12)\n",
    "#plt.yticks([ 0, 1, 2, 3, 4, 5])\n",
    "ax1.spines['top'].set_visible(False) #remove borders\n",
    "ax1.spines['right'].set_visible(False)\n",
    "ax1.spines['bottom'].set_visible(True)\n",
    "ax1.spines['left'].set_visible(True)\n",
    "\n",
    "plt.tight_layout()\n",
    "\n",
    "fig.savefig(\"CumReviewsTimeline.png\")"
   ]
  },
  {
   "cell_type": "markdown",
   "metadata": {},
   "source": [
    "## Get the length of the reviews in characters grouped by rating and time period"
   ]
  },
  {
   "cell_type": "code",
   "execution_count": 12,
   "metadata": {},
   "outputs": [
    {
     "data": {
      "text/html": [
       "<div>\n",
       "<style scoped>\n",
       "    .dataframe tbody tr th:only-of-type {\n",
       "        vertical-align: middle;\n",
       "    }\n",
       "\n",
       "    .dataframe tbody tr th {\n",
       "        vertical-align: top;\n",
       "    }\n",
       "\n",
       "    .dataframe thead th {\n",
       "        text-align: right;\n",
       "    }\n",
       "</style>\n",
       "<table border=\"1\" class=\"dataframe\">\n",
       "  <thead>\n",
       "    <tr style=\"text-align: right;\">\n",
       "      <th></th>\n",
       "      <th></th>\n",
       "      <th>count</th>\n",
       "      <th>mean</th>\n",
       "      <th>std</th>\n",
       "      <th>min</th>\n",
       "      <th>25%</th>\n",
       "      <th>50%</th>\n",
       "      <th>75%</th>\n",
       "      <th>max</th>\n",
       "    </tr>\n",
       "    <tr>\n",
       "      <th>time_cat</th>\n",
       "      <th>rating_binary</th>\n",
       "      <th></th>\n",
       "      <th></th>\n",
       "      <th></th>\n",
       "      <th></th>\n",
       "      <th></th>\n",
       "      <th></th>\n",
       "      <th></th>\n",
       "      <th></th>\n",
       "    </tr>\n",
       "  </thead>\n",
       "  <tbody>\n",
       "    <tr>\n",
       "      <th rowspan=\"2\" valign=\"top\">Before Sept 2014</th>\n",
       "      <th>0</th>\n",
       "      <td>733.0</td>\n",
       "      <td>637.889495</td>\n",
       "      <td>584.204344</td>\n",
       "      <td>16.0</td>\n",
       "      <td>222.00</td>\n",
       "      <td>461.0</td>\n",
       "      <td>881.00</td>\n",
       "      <td>3790.0</td>\n",
       "    </tr>\n",
       "    <tr>\n",
       "      <th>1</th>\n",
       "      <td>292.0</td>\n",
       "      <td>232.643836</td>\n",
       "      <td>313.682238</td>\n",
       "      <td>13.0</td>\n",
       "      <td>73.00</td>\n",
       "      <td>145.0</td>\n",
       "      <td>271.00</td>\n",
       "      <td>3770.0</td>\n",
       "    </tr>\n",
       "    <tr>\n",
       "      <th rowspan=\"2\" valign=\"top\">Sept 2014</th>\n",
       "      <th>0</th>\n",
       "      <td>1288.0</td>\n",
       "      <td>283.033385</td>\n",
       "      <td>337.119094</td>\n",
       "      <td>12.0</td>\n",
       "      <td>75.00</td>\n",
       "      <td>168.0</td>\n",
       "      <td>354.25</td>\n",
       "      <td>3053.0</td>\n",
       "    </tr>\n",
       "    <tr>\n",
       "      <th>1</th>\n",
       "      <td>120.0</td>\n",
       "      <td>203.683333</td>\n",
       "      <td>219.604227</td>\n",
       "      <td>14.0</td>\n",
       "      <td>68.75</td>\n",
       "      <td>130.5</td>\n",
       "      <td>247.00</td>\n",
       "      <td>1344.0</td>\n",
       "    </tr>\n",
       "    <tr>\n",
       "      <th rowspan=\"2\" valign=\"top\">After Sept 2014</th>\n",
       "      <th>0</th>\n",
       "      <td>661.0</td>\n",
       "      <td>680.944024</td>\n",
       "      <td>614.563685</td>\n",
       "      <td>13.0</td>\n",
       "      <td>246.00</td>\n",
       "      <td>514.0</td>\n",
       "      <td>932.00</td>\n",
       "      <td>4069.0</td>\n",
       "    </tr>\n",
       "    <tr>\n",
       "      <th>1</th>\n",
       "      <td>828.0</td>\n",
       "      <td>211.143720</td>\n",
       "      <td>239.732474</td>\n",
       "      <td>12.0</td>\n",
       "      <td>67.75</td>\n",
       "      <td>134.5</td>\n",
       "      <td>265.25</td>\n",
       "      <td>2058.0</td>\n",
       "    </tr>\n",
       "  </tbody>\n",
       "</table>\n",
       "</div>"
      ],
      "text/plain": [
       "                                 count        mean         std   min     25%  \\\n",
       "time_cat         rating_binary                                                 \n",
       "Before Sept 2014 0               733.0  637.889495  584.204344  16.0  222.00   \n",
       "                 1               292.0  232.643836  313.682238  13.0   73.00   \n",
       "Sept 2014        0              1288.0  283.033385  337.119094  12.0   75.00   \n",
       "                 1               120.0  203.683333  219.604227  14.0   68.75   \n",
       "After Sept 2014  0               661.0  680.944024  614.563685  13.0  246.00   \n",
       "                 1               828.0  211.143720  239.732474  12.0   67.75   \n",
       "\n",
       "                                  50%     75%     max  \n",
       "time_cat         rating_binary                         \n",
       "Before Sept 2014 0              461.0  881.00  3790.0  \n",
       "                 1              145.0  271.00  3770.0  \n",
       "Sept 2014        0              168.0  354.25  3053.0  \n",
       "                 1              130.5  247.00  1344.0  \n",
       "After Sept 2014  0              514.0  932.00  4069.0  \n",
       "                 1              134.5  265.25  2058.0  "
      ]
     },
     "execution_count": 12,
     "metadata": {},
     "output_type": "execute_result"
    }
   ],
   "source": [
    "data.groupby(['time_cat', 'rating_binary']).describe()['len_rev']"
   ]
  },
  {
   "cell_type": "markdown",
   "metadata": {},
   "source": [
    "### Get the two days with the largest amount of reviews"
   ]
  },
  {
   "cell_type": "code",
   "execution_count": 13,
   "metadata": {},
   "outputs": [
    {
     "name": "stderr",
     "output_type": "stream",
     "text": [
      "C:\\Users\\Jolien\\Anaconda3\\lib\\site-packages\\ipykernel_launcher.py:1: FutureWarning: 'year' is both an index level and a column label.\n",
      "Defaulting to column, but this will raise an ambiguity error in a future version\n",
      "  \"\"\"Entry point for launching an IPython kernel.\n",
      "C:\\Users\\Jolien\\Anaconda3\\lib\\site-packages\\ipykernel_launcher.py:1: FutureWarning: 'month' is both an index level and a column label.\n",
      "Defaulting to column, but this will raise an ambiguity error in a future version\n",
      "  \"\"\"Entry point for launching an IPython kernel.\n",
      "C:\\Users\\Jolien\\Anaconda3\\lib\\site-packages\\ipykernel_launcher.py:1: FutureWarning: 'day' is both an index level and a column label.\n",
      "Defaulting to column, but this will raise an ambiguity error in a future version\n",
      "  \"\"\"Entry point for launching an IPython kernel.\n"
     ]
    },
    {
     "data": {
      "text/html": [
       "<div>\n",
       "<style scoped>\n",
       "    .dataframe tbody tr th:only-of-type {\n",
       "        vertical-align: middle;\n",
       "    }\n",
       "\n",
       "    .dataframe tbody tr th {\n",
       "        vertical-align: top;\n",
       "    }\n",
       "\n",
       "    .dataframe thead th {\n",
       "        text-align: right;\n",
       "    }\n",
       "</style>\n",
       "<table border=\"1\" class=\"dataframe\">\n",
       "  <thead>\n",
       "    <tr style=\"text-align: right;\">\n",
       "      <th></th>\n",
       "      <th></th>\n",
       "      <th></th>\n",
       "      <th></th>\n",
       "      <th>Afinn_binary</th>\n",
       "      <th>Afinn_score</th>\n",
       "      <th>Company</th>\n",
       "      <th>after_sept14</th>\n",
       "      <th>before_sept14</th>\n",
       "      <th>datePublished</th>\n",
       "      <th>datetime</th>\n",
       "      <th>daymean_afinn</th>\n",
       "      <th>daymean_rating</th>\n",
       "      <th>daysum_afinn</th>\n",
       "      <th>daysum_rating</th>\n",
       "      <th>headline</th>\n",
       "      <th>inLanguage</th>\n",
       "      <th>len_rev</th>\n",
       "      <th>ratingValue</th>\n",
       "      <th>rating_binary</th>\n",
       "      <th>rating_c</th>\n",
       "      <th>reviewBody</th>\n",
       "      <th>sept14</th>\n",
       "    </tr>\n",
       "    <tr>\n",
       "      <th>no_rev</th>\n",
       "      <th>year</th>\n",
       "      <th>month</th>\n",
       "      <th>day</th>\n",
       "      <th></th>\n",
       "      <th></th>\n",
       "      <th></th>\n",
       "      <th></th>\n",
       "      <th></th>\n",
       "      <th></th>\n",
       "      <th></th>\n",
       "      <th></th>\n",
       "      <th></th>\n",
       "      <th></th>\n",
       "      <th></th>\n",
       "      <th></th>\n",
       "      <th></th>\n",
       "      <th></th>\n",
       "      <th></th>\n",
       "      <th></th>\n",
       "      <th></th>\n",
       "      <th></th>\n",
       "      <th></th>\n",
       "    </tr>\n",
       "  </thead>\n",
       "  <tbody>\n",
       "    <tr>\n",
       "      <th>458</th>\n",
       "      <th>2014</th>\n",
       "      <th>9</th>\n",
       "      <th>22</th>\n",
       "      <td>1</td>\n",
       "      <td>7.0</td>\n",
       "      <td>www.jensens.com</td>\n",
       "      <td>0.0</td>\n",
       "      <td>0.0</td>\n",
       "      <td>2014-09-22T22:40:58Z</td>\n",
       "      <td>2014-09-22 22:40:58</td>\n",
       "      <td>-1.327511</td>\n",
       "      <td>-0.792576</td>\n",
       "      <td>-608.0</td>\n",
       "      <td>-363</td>\n",
       "      <td>👍👍👍</td>\n",
       "      <td>da</td>\n",
       "      <td>3053</td>\n",
       "      <td>5</td>\n",
       "      <td>1</td>\n",
       "      <td>1</td>\n",
       "      <td>Øv oplevelse</td>\n",
       "      <td>1.0</td>\n",
       "    </tr>\n",
       "    <tr>\n",
       "      <th>484</th>\n",
       "      <th>2014</th>\n",
       "      <th>9</th>\n",
       "      <th>20</th>\n",
       "      <td>1</td>\n",
       "      <td>4.0</td>\n",
       "      <td>www.jensens.com</td>\n",
       "      <td>0.0</td>\n",
       "      <td>0.0</td>\n",
       "      <td>2014-09-20T23:52:31Z</td>\n",
       "      <td>2014-09-20 23:52:31</td>\n",
       "      <td>-1.324380</td>\n",
       "      <td>-0.929752</td>\n",
       "      <td>-641.0</td>\n",
       "      <td>-450</td>\n",
       "      <td>Øv med mere øv på.</td>\n",
       "      <td>da</td>\n",
       "      <td>2386</td>\n",
       "      <td>5</td>\n",
       "      <td>1</td>\n",
       "      <td>1</td>\n",
       "      <td>Øv, Eat all can sparreribs eksistere ikke læng...</td>\n",
       "      <td>1.0</td>\n",
       "    </tr>\n",
       "  </tbody>\n",
       "</table>\n",
       "</div>"
      ],
      "text/plain": [
       "                       Afinn_binary  Afinn_score          Company  \\\n",
       "no_rev year month day                                               \n",
       "458    2014 9     22              1          7.0  www.jensens.com   \n",
       "484    2014 9     20              1          4.0  www.jensens.com   \n",
       "\n",
       "                       after_sept14  before_sept14         datePublished  \\\n",
       "no_rev year month day                                                      \n",
       "458    2014 9     22            0.0            0.0  2014-09-22T22:40:58Z   \n",
       "484    2014 9     20            0.0            0.0  2014-09-20T23:52:31Z   \n",
       "\n",
       "                                 datetime  daymean_afinn  daymean_rating  \\\n",
       "no_rev year month day                                                      \n",
       "458    2014 9     22  2014-09-22 22:40:58      -1.327511       -0.792576   \n",
       "484    2014 9     20  2014-09-20 23:52:31      -1.324380       -0.929752   \n",
       "\n",
       "                       daysum_afinn  daysum_rating            headline  \\\n",
       "no_rev year month day                                                    \n",
       "458    2014 9     22         -608.0           -363                 👍👍👍   \n",
       "484    2014 9     20         -641.0           -450  Øv med mere øv på.   \n",
       "\n",
       "                      inLanguage  len_rev  ratingValue  rating_binary  \\\n",
       "no_rev year month day                                                   \n",
       "458    2014 9     22          da     3053            5              1   \n",
       "484    2014 9     20          da     2386            5              1   \n",
       "\n",
       "                       rating_c  \\\n",
       "no_rev year month day             \n",
       "458    2014 9     22          1   \n",
       "484    2014 9     20          1   \n",
       "\n",
       "                                                              reviewBody  \\\n",
       "no_rev year month day                                                      \n",
       "458    2014 9     22                                        Øv oplevelse   \n",
       "484    2014 9     20   Øv, Eat all can sparreribs eksistere ikke læng...   \n",
       "\n",
       "                       sept14  \n",
       "no_rev year month day          \n",
       "458    2014 9     22      1.0  \n",
       "484    2014 9     20      1.0  "
      ]
     },
     "execution_count": 13,
     "metadata": {},
     "output_type": "execute_result"
    }
   ],
   "source": [
    "data.groupby(['no_rev', 'year', 'month', 'day']).max()[-2:]\n",
    "#error because groupby variables are both columns and indexes."
   ]
  },
  {
   "cell_type": "markdown",
   "metadata": {},
   "source": [
    "### Plot of reviews over time"
   ]
  },
  {
   "cell_type": "code",
   "execution_count": 14,
   "metadata": {},
   "outputs": [
    {
     "name": "stderr",
     "output_type": "stream",
     "text": [
      "C:\\Users\\Jolien\\Anaconda3\\lib\\site-packages\\matplotlib\\figure.py:2267: UserWarning: This figure includes Axes that are not compatible with tight_layout, so results might be incorrect.\n",
      "  warnings.warn(\"This figure includes Axes that are not compatible \"\n"
     ]
    },
    {
     "data": {
      "image/png": "[encoded data removed]",
      "text/plain": [
       "<Figure size 792x360 with 2 Axes>"
      ]
     },
     "metadata": {},
     "output_type": "display_data"
    }
   ],
   "source": [
    "# Creating variables for plots\n",
    "data_sept = data[data[\"sept14\"] == 1]\n",
    "data_before = data[data['before_sept14'] == 1]\n",
    "data_after = data[data['after_sept14'] == 1]\n",
    "\n",
    "x1 = data[\"datetime\"] #first figure\n",
    "y1 = data[\"no_rev\"]\n",
    "x2 = data_sept[\"datetime\"] #second figure\n",
    "y2 = data_sept[\"no_rev\"]\n",
    "\n",
    "\n",
    "#creating canvas for figures\n",
    "fig, ax1 = plt.subplots(1,1, figsize=(11,5))\n",
    "plt.rcParams.update({'font.size': 11})\n",
    "\n",
    "\n",
    "ax1.plot(x1,y1)\n",
    "ax1.plot(x2, y2, color = 'red')\n",
    "ax1.set_ylabel(\"Year\", fontsize=16)\n",
    "ax1.set_ylabel(\"Review count\", fontsize=16)\n",
    "ax1.tick_params(axis='both', which='major', labelsize=12)\n",
    "ax1.spines['top'].set_visible(False) #remove borders\n",
    "ax1.spines['right'].set_visible(False)\n",
    "ax1.spines['bottom'].set_visible(True)\n",
    "ax1.spines['left'].set_visible(True)\n",
    "\n",
    "\n",
    "plt.tight_layout()\n",
    "\n",
    "myFmt = mdates.DateFormatter('%d/%m/%y')\n",
    "\n",
    "ax2 = fig.add_axes([0.18, 0.6, 0.25, 0.3])\n",
    "ax2.plot(x2, y2)\n",
    "ax2.xaxis.set_major_formatter(myFmt)\n",
    "ax2.plot(x2, y2, color=\"red\")\n",
    "ax2.xaxis.set_major_locator(ticker.MaxNLocator(4))\n",
    "\n",
    "ax2.tick_params(\n",
    "    axis='x',          \n",
    "    which='both',     \n",
    "    bottom=True,      \n",
    "    top=False,         \n",
    "    labelbottom=True, direction='out', length=3, width=3, labelrotation=0.12) \n",
    "\n",
    "plt.tight_layout()\n",
    "\n",
    "fig.savefig(\"ReviewTimeline.png\")\n"
   ]
  },
  {
   "cell_type": "markdown",
   "metadata": {},
   "source": [
    "### Get the increase/decrease in stars over time:"
   ]
  },
  {
   "cell_type": "code",
   "execution_count": 15,
   "metadata": {},
   "outputs": [
    {
     "data": {
      "text/html": [
       "<div>\n",
       "<style scoped>\n",
       "    .dataframe tbody tr th:only-of-type {\n",
       "        vertical-align: middle;\n",
       "    }\n",
       "\n",
       "    .dataframe tbody tr th {\n",
       "        vertical-align: top;\n",
       "    }\n",
       "\n",
       "    .dataframe thead th {\n",
       "        text-align: right;\n",
       "    }\n",
       "</style>\n",
       "<table border=\"1\" class=\"dataframe\">\n",
       "  <thead>\n",
       "    <tr style=\"text-align: right;\">\n",
       "      <th></th>\n",
       "      <th></th>\n",
       "      <th></th>\n",
       "      <th>count</th>\n",
       "      <th>mean</th>\n",
       "      <th>std</th>\n",
       "      <th>min</th>\n",
       "      <th>25%</th>\n",
       "      <th>50%</th>\n",
       "      <th>75%</th>\n",
       "      <th>max</th>\n",
       "    </tr>\n",
       "    <tr>\n",
       "      <th>time_cat</th>\n",
       "      <th>rating_binary</th>\n",
       "      <th>ratingValue</th>\n",
       "      <th></th>\n",
       "      <th></th>\n",
       "      <th></th>\n",
       "      <th></th>\n",
       "      <th></th>\n",
       "      <th></th>\n",
       "      <th></th>\n",
       "      <th></th>\n",
       "    </tr>\n",
       "  </thead>\n",
       "  <tbody>\n",
       "    <tr>\n",
       "      <th rowspan=\"5\" valign=\"top\">Before Sept 2014</th>\n",
       "      <th rowspan=\"3\" valign=\"top\">0</th>\n",
       "      <th>1</th>\n",
       "      <td>379.0</td>\n",
       "      <td>4.709763</td>\n",
       "      <td>13.738302</td>\n",
       "      <td>1.0</td>\n",
       "      <td>1.0</td>\n",
       "      <td>2.0</td>\n",
       "      <td>3.00</td>\n",
       "      <td>87.0</td>\n",
       "    </tr>\n",
       "    <tr>\n",
       "      <th>2</th>\n",
       "      <td>217.0</td>\n",
       "      <td>8.797235</td>\n",
       "      <td>20.855663</td>\n",
       "      <td>1.0</td>\n",
       "      <td>1.0</td>\n",
       "      <td>2.0</td>\n",
       "      <td>5.00</td>\n",
       "      <td>87.0</td>\n",
       "    </tr>\n",
       "    <tr>\n",
       "      <th>3</th>\n",
       "      <td>137.0</td>\n",
       "      <td>14.948905</td>\n",
       "      <td>29.136929</td>\n",
       "      <td>1.0</td>\n",
       "      <td>2.0</td>\n",
       "      <td>3.0</td>\n",
       "      <td>7.00</td>\n",
       "      <td>87.0</td>\n",
       "    </tr>\n",
       "    <tr>\n",
       "      <th rowspan=\"2\" valign=\"top\">1</th>\n",
       "      <th>4</th>\n",
       "      <td>156.0</td>\n",
       "      <td>18.576923</td>\n",
       "      <td>31.644811</td>\n",
       "      <td>1.0</td>\n",
       "      <td>2.0</td>\n",
       "      <td>3.0</td>\n",
       "      <td>11.75</td>\n",
       "      <td>87.0</td>\n",
       "    </tr>\n",
       "    <tr>\n",
       "      <th>5</th>\n",
       "      <td>136.0</td>\n",
       "      <td>14.169118</td>\n",
       "      <td>27.847350</td>\n",
       "      <td>1.0</td>\n",
       "      <td>2.0</td>\n",
       "      <td>3.0</td>\n",
       "      <td>8.00</td>\n",
       "      <td>87.0</td>\n",
       "    </tr>\n",
       "    <tr>\n",
       "      <th rowspan=\"5\" valign=\"top\">Sept 2014</th>\n",
       "      <th rowspan=\"3\" valign=\"top\">0</th>\n",
       "      <th>1</th>\n",
       "      <td>1209.0</td>\n",
       "      <td>382.898263</td>\n",
       "      <td>143.879165</td>\n",
       "      <td>1.0</td>\n",
       "      <td>255.0</td>\n",
       "      <td>458.0</td>\n",
       "      <td>484.00</td>\n",
       "      <td>484.0</td>\n",
       "    </tr>\n",
       "    <tr>\n",
       "      <th>2</th>\n",
       "      <td>63.0</td>\n",
       "      <td>337.015873</td>\n",
       "      <td>170.571382</td>\n",
       "      <td>15.0</td>\n",
       "      <td>255.0</td>\n",
       "      <td>458.0</td>\n",
       "      <td>458.00</td>\n",
       "      <td>484.0</td>\n",
       "    </tr>\n",
       "    <tr>\n",
       "      <th>3</th>\n",
       "      <td>16.0</td>\n",
       "      <td>283.125000</td>\n",
       "      <td>219.433475</td>\n",
       "      <td>3.0</td>\n",
       "      <td>17.0</td>\n",
       "      <td>458.0</td>\n",
       "      <td>458.00</td>\n",
       "      <td>484.0</td>\n",
       "    </tr>\n",
       "    <tr>\n",
       "      <th rowspan=\"2\" valign=\"top\">1</th>\n",
       "      <th>4</th>\n",
       "      <td>26.0</td>\n",
       "      <td>232.153846</td>\n",
       "      <td>214.102722</td>\n",
       "      <td>3.0</td>\n",
       "      <td>29.5</td>\n",
       "      <td>92.0</td>\n",
       "      <td>458.00</td>\n",
       "      <td>458.0</td>\n",
       "    </tr>\n",
       "    <tr>\n",
       "      <th>5</th>\n",
       "      <td>94.0</td>\n",
       "      <td>277.021277</td>\n",
       "      <td>205.998537</td>\n",
       "      <td>3.0</td>\n",
       "      <td>46.0</td>\n",
       "      <td>458.0</td>\n",
       "      <td>458.00</td>\n",
       "      <td>484.0</td>\n",
       "    </tr>\n",
       "    <tr>\n",
       "      <th rowspan=\"5\" valign=\"top\">After Sept 2014</th>\n",
       "      <th rowspan=\"3\" valign=\"top\">0</th>\n",
       "      <th>1</th>\n",
       "      <td>438.0</td>\n",
       "      <td>2.979452</td>\n",
       "      <td>5.124718</td>\n",
       "      <td>1.0</td>\n",
       "      <td>1.0</td>\n",
       "      <td>2.0</td>\n",
       "      <td>3.00</td>\n",
       "      <td>63.0</td>\n",
       "    </tr>\n",
       "    <tr>\n",
       "      <th>2</th>\n",
       "      <td>122.0</td>\n",
       "      <td>5.180328</td>\n",
       "      <td>11.224984</td>\n",
       "      <td>1.0</td>\n",
       "      <td>1.0</td>\n",
       "      <td>2.0</td>\n",
       "      <td>4.00</td>\n",
       "      <td>63.0</td>\n",
       "    </tr>\n",
       "    <tr>\n",
       "      <th>3</th>\n",
       "      <td>101.0</td>\n",
       "      <td>8.099010</td>\n",
       "      <td>14.514479</td>\n",
       "      <td>1.0</td>\n",
       "      <td>1.0</td>\n",
       "      <td>2.0</td>\n",
       "      <td>9.00</td>\n",
       "      <td>63.0</td>\n",
       "    </tr>\n",
       "    <tr>\n",
       "      <th rowspan=\"2\" valign=\"top\">1</th>\n",
       "      <th>4</th>\n",
       "      <td>241.0</td>\n",
       "      <td>13.921162</td>\n",
       "      <td>18.439259</td>\n",
       "      <td>1.0</td>\n",
       "      <td>3.0</td>\n",
       "      <td>8.0</td>\n",
       "      <td>15.00</td>\n",
       "      <td>63.0</td>\n",
       "    </tr>\n",
       "    <tr>\n",
       "      <th>5</th>\n",
       "      <td>587.0</td>\n",
       "      <td>14.328790</td>\n",
       "      <td>20.400326</td>\n",
       "      <td>1.0</td>\n",
       "      <td>2.0</td>\n",
       "      <td>5.0</td>\n",
       "      <td>13.50</td>\n",
       "      <td>63.0</td>\n",
       "    </tr>\n",
       "  </tbody>\n",
       "</table>\n",
       "</div>"
      ],
      "text/plain": [
       "                                             count        mean         std  \\\n",
       "time_cat         rating_binary ratingValue                                   \n",
       "Before Sept 2014 0             1             379.0    4.709763   13.738302   \n",
       "                               2             217.0    8.797235   20.855663   \n",
       "                               3             137.0   14.948905   29.136929   \n",
       "                 1             4             156.0   18.576923   31.644811   \n",
       "                               5             136.0   14.169118   27.847350   \n",
       "Sept 2014        0             1            1209.0  382.898263  143.879165   \n",
       "                               2              63.0  337.015873  170.571382   \n",
       "                               3              16.0  283.125000  219.433475   \n",
       "                 1             4              26.0  232.153846  214.102722   \n",
       "                               5              94.0  277.021277  205.998537   \n",
       "After Sept 2014  0             1             438.0    2.979452    5.124718   \n",
       "                               2             122.0    5.180328   11.224984   \n",
       "                               3             101.0    8.099010   14.514479   \n",
       "                 1             4             241.0   13.921162   18.439259   \n",
       "                               5             587.0   14.328790   20.400326   \n",
       "\n",
       "                                             min    25%    50%     75%    max  \n",
       "time_cat         rating_binary ratingValue                                     \n",
       "Before Sept 2014 0             1             1.0    1.0    2.0    3.00   87.0  \n",
       "                               2             1.0    1.0    2.0    5.00   87.0  \n",
       "                               3             1.0    2.0    3.0    7.00   87.0  \n",
       "                 1             4             1.0    2.0    3.0   11.75   87.0  \n",
       "                               5             1.0    2.0    3.0    8.00   87.0  \n",
       "Sept 2014        0             1             1.0  255.0  458.0  484.00  484.0  \n",
       "                               2            15.0  255.0  458.0  458.00  484.0  \n",
       "                               3             3.0   17.0  458.0  458.00  484.0  \n",
       "                 1             4             3.0   29.5   92.0  458.00  458.0  \n",
       "                               5             3.0   46.0  458.0  458.00  484.0  \n",
       "After Sept 2014  0             1             1.0    1.0    2.0    3.00   63.0  \n",
       "                               2             1.0    1.0    2.0    4.00   63.0  \n",
       "                               3             1.0    1.0    2.0    9.00   63.0  \n",
       "                 1             4             1.0    3.0    8.0   15.00   63.0  \n",
       "                               5             1.0    2.0    5.0   13.50   63.0  "
      ]
     },
     "execution_count": 15,
     "metadata": {},
     "output_type": "execute_result"
    }
   ],
   "source": [
    "data.groupby(['time_cat', 'rating_binary', 'ratingValue']).describe()['no_rev'] #use the count column to get relative percentages"
   ]
  },
  {
   "cell_type": "markdown",
   "metadata": {},
   "source": [
    "<br><br><br><br>\n",
    "# Data Analysis"
   ]
  },
  {
   "cell_type": "markdown",
   "metadata": {},
   "source": [
    "<br><br>\n",
    "## Implement tokenization using TfidfVectorizor"
   ]
  },
  {
   "cell_type": "markdown",
   "metadata": {},
   "source": [
    "### First split the data into training, test and validation sets"
   ]
  },
  {
   "cell_type": "code",
   "execution_count": 16,
   "metadata": {},
   "outputs": [
    {
     "name": "stdout",
     "output_type": "stream",
     "text": [
      "(717,)\n",
      "(308,)\n",
      "(985,)\n",
      "(423,)\n",
      "(1044,)\n",
      "(448,)\n"
     ]
    }
   ],
   "source": [
    "from sklearn.model_selection import train_test_split\n",
    "import nltk\n",
    "\n",
    "data_before_d, data_before_t, y_before_d, y_before_t = train_test_split(data_before, \n",
    "                                                                        data_before[['rating_binary', 'Afinn_binary']],\n",
    "                                                                        test_size=0.3, random_state=1)\n",
    "\n",
    "data_sept_d, data_sept_t, y_sept_d, y_sept_t = train_test_split(data_sept, \n",
    "                                                                data_sept[['rating_binary', 'Afinn_binary']],\n",
    "                                                                test_size=0.3, random_state=1)\n",
    "\n",
    "data_after_d, data_after_t, y_after_d, y_after_t = train_test_split(data_after, \n",
    "                                                                    data_after[['rating_binary', 'Afinn_binary']],\n",
    "                                                                    test_size=0.3, random_state=1)    \n",
    "\n",
    "\n",
    "#Extract the reviews from the split data\n",
    "X_before_dev = data_before_d['reviewBody']\n",
    "X_before_test = data_before_t['reviewBody']\n",
    "X_sept_dev = data_sept_d['reviewBody']\n",
    "X_sept_test = data_sept_t['reviewBody']\n",
    "X_after_dev = data_after_d['reviewBody']\n",
    "X_after_test = data_after_t['reviewBody']\n",
    "\n",
    "#Split y_t and y_d into rating and afinn scores\n",
    "y_dev_b = y_before_d['rating_binary']\n",
    "y_test_b = y_before_t['rating_binary']\n",
    "y_dev_d = y_sept_d['rating_binary']\n",
    "y_test_d = y_sept_t['rating_binary']\n",
    "y_dev_a = y_after_d['rating_binary']\n",
    "y_test_a = y_after_t['rating_binary']\n",
    "\n",
    "y_before_afinn_check_dev = y_before_d['Afinn_binary']\n",
    "y_before_afinn_check_test = y_before_t['Afinn_binary']\n",
    "y_sept_afinn_check_dev = y_sept_d['Afinn_binary']\n",
    "y_sept_afinn_check_test = y_sept_t['Afinn_binary']\n",
    "y_after_afinn_check_dev = y_after_d['Afinn_binary']\n",
    "y_after_afinn_check_test = y_after_t['Afinn_binary']\n",
    "\n",
    "#Check size of data before, during and after sept 2014\n",
    "print(y_dev_b.shape)\n",
    "print(y_test_b.shape)\n",
    "print(y_dev_d.shape)\n",
    "print(y_test_d.shape)\n",
    "print(y_dev_a.shape)\n",
    "print(y_test_a.shape)"
   ]
  },
  {
   "cell_type": "markdown",
   "metadata": {},
   "source": [
    "### Then tokenize"
   ]
  },
  {
   "cell_type": "code",
   "execution_count": 17,
   "metadata": {},
   "outputs": [
    {
     "name": "stdout",
     "output_type": "stream",
     "text": [
      "Number of tokens before September 2014:  6238\n",
      "Number of tokens during September 2014:  5059\n",
      "Number of tokens after September 2014:  6941\n"
     ]
    }
   ],
   "source": [
    "from sklearn.feature_extraction.text import TfidfVectorizer\n",
    "import re\n",
    "\n",
    "def tokenizer(str_input):\n",
    "    words = re.sub(r\"[^A-Za-z]\", \" \", str_input).lower().split() #only include words, no - or numbers or other special signs\n",
    "    return words\n",
    "\n",
    "vectorizer = TfidfVectorizer(preprocessor=None, tokenizer=nltk.word_tokenize)\n",
    "#vectorizer = TfidfVectorizer(preprocessor=None, tokenizer=tokenizer)\n",
    "\n",
    "vectorizer.fit(X_before_dev)\n",
    "X_dev_vec_b = vectorizer.transform(X_before_dev)\n",
    "X_test_vec_b = vectorizer.transform(X_before_test)\n",
    "tokens_b = vectorizer.get_feature_names() #Get the individual tokens\n",
    "print('Number of tokens before September 2014: ', len(tokens_b)) #Number of tokens\n",
    "\n",
    "vectorizer.fit(X_sept_dev)\n",
    "X_dev_vec_d = vectorizer.transform(X_sept_dev)\n",
    "X_test_vec_d = vectorizer.transform(X_sept_test)\n",
    "tokens_d = vectorizer.get_feature_names() #Get the individual tokens\n",
    "print('Number of tokens during September 2014: ', len(tokens_d)) #Number of tokens\n",
    "\n",
    "vectorizer.fit(X_after_dev)\n",
    "X_dev_vec_a = vectorizer.transform(X_after_dev)\n",
    "X_test_vec_a = vectorizer.transform(X_after_test)\n",
    "tokens_a = vectorizer.get_feature_names() #Get the individual tokens\n",
    "print('Number of tokens after September 2014: ', len(tokens_a)) #Number of tokens"
   ]
  },
  {
   "cell_type": "markdown",
   "metadata": {},
   "source": [
    "<br><br>\n",
    "## Define functions for algorithms"
   ]
  },
  {
   "cell_type": "markdown",
   "metadata": {},
   "source": [
    "### Function to compute accuracy of a fitted model (binary outcome)"
   ]
  },
  {
   "cell_type": "code",
   "execution_count": 18,
   "metadata": {},
   "outputs": [],
   "source": [
    "def A(fittedModel, X, y):\n",
    "    \n",
    "    y_pred = fittedModel.predict(X)\n",
    "\n",
    "    TP = sum(np.where(y + y_pred == 2, 1, 0))\n",
    "    TN = sum(np.where(y + y_pred == 0, 1, 0))\n",
    "    FP = sum(np.where((y == 0) & (y_pred == 1), 1, 0))\n",
    "    FN = sum(np.where((y == 1) & (y_pred == 0), 1, 0))\n",
    "    \n",
    "    ACC = (TP + TN) / (TP + TN + FP + FN)\n",
    "\n",
    "    return(ACC)\n",
    "\n",
    "def A_afinn(y_pred, y):\n",
    "    \n",
    "    TP = sum(np.where(y + y_pred == 2, 1, 0))\n",
    "    TN = sum(np.where(y + y_pred == 0, 1, 0))\n",
    "    FP = sum(np.where((y == 0) & (y_pred == 1), 1, 0))\n",
    "    FN = sum(np.where((y == 1) & (y_pred == 0), 1, 0))\n",
    "    \n",
    "    ACC = (TP + TN) / (TP + TN + FP + FN)\n",
    "\n",
    "    return(ACC)"
   ]
  },
  {
   "cell_type": "markdown",
   "metadata": {},
   "source": [
    "### Define classifiers (binary outcome)"
   ]
  },
  {
   "cell_type": "code",
   "execution_count": 19,
   "metadata": {},
   "outputs": [],
   "source": [
    "from sklearn.linear_model import LogisticRegression\n",
    "from sklearn.naive_bayes import BernoulliNB\n",
    "from sklearn.svm import LinearSVC\n",
    "\n",
    "logreg_lib = LogisticRegression(penalty = 'l1', C = 5, random_state = 1) #liberal regularization\n",
    "\n",
    "#We have to set dual to False in order to get 'l1' penalty.\n",
    "svc_lib = LinearSVC(penalty = 'l1', C = 5, random_state = 1, dual = False) #liberal regularization\n",
    "\n",
    "NB = BernoulliNB()"
   ]
  },
  {
   "cell_type": "markdown",
   "metadata": {},
   "source": [
    "<br><br>\n",
    "## Compute accuracy of Afinn scores"
   ]
  },
  {
   "cell_type": "code",
   "execution_count": 20,
   "metadata": {},
   "outputs": [
    {
     "name": "stdout",
     "output_type": "stream",
     "text": [
      "Training accuracy Afinn score before September 2014:  0.6903765690376569\n",
      "Training accuracy Afinn score during September 2014:  0.8903553299492386\n",
      "Training accuracy Afinn score after September 2014:  0.5957854406130269 \n",
      "\n",
      "Test accuracy Afinn score before September 2014:  0.724025974025974\n",
      "Test accuracy Afinn score during September 2014:  0.8983451536643026\n",
      "Test accuracy Afinn score after September 2014:  0.6138392857142857\n"
     ]
    }
   ],
   "source": [
    "print('Training accuracy Afinn score before September 2014: ', A_afinn(y_before_afinn_check_dev, y = y_dev_b))\n",
    "print('Training accuracy Afinn score during September 2014: ', A_afinn(y_sept_afinn_check_dev, y = y_dev_d))\n",
    "print('Training accuracy Afinn score after September 2014: ', A_afinn(y_after_afinn_check_dev, y = y_dev_a), '\\n')\n",
    "\n",
    "print('Test accuracy Afinn score before September 2014: ', A_afinn(y_before_afinn_check_test, y = y_test_b))\n",
    "print('Test accuracy Afinn score during September 2014: ', A_afinn(y_sept_afinn_check_test, y = y_test_d))\n",
    "print('Test accuracy Afinn score after September 2014: ', A_afinn(y_after_afinn_check_test, y = y_test_a))"
   ]
  },
  {
   "cell_type": "markdown",
   "metadata": {},
   "source": [
    "<br><br>\n",
    "# Classification before September 2014"
   ]
  },
  {
   "cell_type": "markdown",
   "metadata": {},
   "source": [
    "<br><br>\n",
    "## Implement the logistic regression classifier"
   ]
  },
  {
   "cell_type": "markdown",
   "metadata": {},
   "source": [
    "First we naïvely fit the logistic regression classifier to the training data. We choose a value of 5 for the regularization parameter `C`. This is actually the inverse of the regularization strength so a lower value means stronger regularization. We use the `l1` penalty because we want to have a sparse solution (we want to set some coefficients to 0) for interpretation purposes."
   ]
  },
  {
   "cell_type": "code",
   "execution_count": 21,
   "metadata": {},
   "outputs": [
    {
     "name": "stdout",
     "output_type": "stream",
     "text": [
      "Training Accuracy:  0.9762900976290098\n"
     ]
    }
   ],
   "source": [
    "#First we naïvely fit the model:\n",
    "sentiment_logreg_lib = logreg_lib.fit(X_dev_vec_b, y_dev_b) \n",
    "\n",
    "#Investigate the accuracy of the training data\n",
    "print('Training Accuracy: ', A(sentiment_logreg_lib, X_dev_vec_b, np.array(y_dev_b))) "
   ]
  },
  {
   "cell_type": "markdown",
   "metadata": {},
   "source": [
    "The accuracy value of the training data is very high and there might be a large difference with the test data. Perhaps we should fit a learning curve to investigate the bias and variance of the model and see whether we are over/under fitting."
   ]
  },
  {
   "cell_type": "markdown",
   "metadata": {},
   "source": [
    "### Make a learning curve"
   ]
  },
  {
   "cell_type": "code",
   "execution_count": 22,
   "metadata": {},
   "outputs": [],
   "source": [
    "from sklearn.model_selection import learning_curve\n",
    "\n",
    "train_sizes_learn, train_scores_learn, test_scores_learn = \\\n",
    "    learning_curve(estimator= logreg_lib,\n",
    "                   X=X_dev_vec_b,\n",
    "                   y=y_dev_b,\n",
    "                   train_sizes=np.linspace(0.1, 1.0, 10),\n",
    "                   scoring=A,                 \n",
    "                   cv=10)"
   ]
  },
  {
   "cell_type": "code",
   "execution_count": 23,
   "metadata": {},
   "outputs": [
    {
     "name": "stdout",
     "output_type": "stream",
     "text": [
      "                Train      Test\n",
      "sample size                    \n",
      "64           0.967187  0.776800\n",
      "129          0.970543  0.803286\n",
      "193          0.967358  0.824276\n",
      "258          0.955426  0.820090\n",
      "322          0.959006  0.818564\n"
     ]
    }
   ],
   "source": [
    "acc_ = pd.DataFrame({'Train':train_scores_learn.mean(axis=1),\n",
    "                     'Test':test_scores_learn.mean(axis=1)})\\\n",
    "        .set_index(pd.Index(train_sizes_learn,name='sample size'))    \n",
    "print(acc_.head())"
   ]
  },
  {
   "cell_type": "code",
   "execution_count": null,
   "metadata": {},
   "outputs": [],
   "source": [
    "f_learn, ax = plt.subplots(figsize=(10,4))\n",
    "acc_.plot(ax=ax)\n",
    "ax.fill_between(train_sizes_learn,\n",
    "                train_scores_learn.mean(1) + train_scores_learn.std(1)*1.96,\n",
    "                train_scores_learn.mean(1) - train_scores_learn.std(1)*1.96, \n",
    "                alpha=0.25, \n",
    "                color='blue')\n",
    "ax.set_ylabel('Accuracy')\n",
    "\n",
    "print('This learning curve shows too much variance:')\n"
   ]
  },
  {
   "cell_type": "markdown",
   "metadata": {},
   "source": [
    "Because the learning curve shows a lot of variance we want to see whether we can optimize the regularization parameter of the logistic regression model. In particular we should consider setting the regularization parameter to a more conservative (thus lower) value.  We do this by making a validation curve plotting the training and test accuracy for several value of `C`."
   ]
  },
  {
   "cell_type": "markdown",
   "metadata": {},
   "source": [
    "### Make a validation curve"
   ]
  },
  {
   "cell_type": "code",
   "execution_count": null,
   "metadata": {},
   "outputs": [],
   "source": [
    "from sklearn.model_selection import validation_curve\n",
    "\n",
    "Cs = np.linspace(0.001, 5, 20)\n",
    "\n",
    "train_scores_val, test_scores_val = \\\n",
    "    validation_curve(estimator= logreg_lib,\n",
    "                     X=X_dev_vec_b,\n",
    "                     y=y_dev_b,\n",
    "                     param_name='C',\n",
    "                     param_range=Cs,\n",
    "                     scoring=A,                 \n",
    "                     cv=10)"
   ]
  },
  {
   "cell_type": "code",
   "execution_count": null,
   "metadata": {},
   "outputs": [],
   "source": [
    "acc_ = pd.DataFrame({'Train':train_scores_val.mean(axis=1),\n",
    "                     'Test':test_scores_val.mean(axis=1)})\\\n",
    "        .set_index(pd.Index(Cs,name='regularization'))    \n",
    "print(acc_.head())"
   ]
  },
  {
   "cell_type": "code",
   "execution_count": null,
   "metadata": {},
   "outputs": [],
   "source": [
    "f_val, ax = plt.subplots(figsize=(10,4))\n",
    "acc_.plot(ax=ax)\n",
    "ax.fill_between(Cs,\n",
    "                train_scores_val.mean(1) + train_scores_val.std(1)*1.96,\n",
    "                train_scores_val.mean(1) - train_scores_val.std(1)*1.96, \n",
    "                alpha=0.25, \n",
    "                color='blue')\n",
    "ax.set_ylabel('Accuracy')"
   ]
  },
  {
   "cell_type": "markdown",
   "metadata": {},
   "source": [
    "We see that the average prediction accuracy (between training and test set) starts decreasing steeply after a `C` value of 1. Lets plot a more detailed validation curve for values lower than 1."
   ]
  },
  {
   "cell_type": "code",
   "execution_count": null,
   "metadata": {},
   "outputs": [],
   "source": [
    "Cs = np.linspace(0.001, 1, 20)\n",
    "\n",
    "train_scores_val, test_scores_val = \\\n",
    "    validation_curve(estimator= logreg_lib,\n",
    "                     X=X_dev_vec_b,\n",
    "                     y=y_dev_b,\n",
    "                     param_name='C',\n",
    "                     param_range=Cs,\n",
    "                     scoring=A,                 \n",
    "                     cv=10)"
   ]
  },
  {
   "cell_type": "code",
   "execution_count": null,
   "metadata": {},
   "outputs": [],
   "source": [
    "acc_ = pd.DataFrame({'Train':train_scores_val.mean(axis=1),\n",
    "                     'Test':test_scores_val.mean(axis=1)})\\\n",
    "        .set_index(pd.Index(Cs,name='regularization'))    \n",
    "print(acc_.head())"
   ]
  },
  {
   "cell_type": "code",
   "execution_count": null,
   "metadata": {},
   "outputs": [],
   "source": [
    "f_val, ax = plt.subplots(figsize=(10,4))\n",
    "acc_.plot(ax=ax)\n",
    "ax.fill_between(Cs,\n",
    "                train_scores_val.mean(1) + train_scores_val.std(1)*1.96,\n",
    "                train_scores_val.mean(1) - train_scores_val.std(1)*1.96, \n",
    "                alpha=0.25, \n",
    "                color='blue')\n",
    "ax.set_ylabel('Accuracy')"
   ]
  },
  {
   "cell_type": "markdown",
   "metadata": {},
   "source": [
    "We select a regularization `C` = 0.6 setting for which the test accuracy is in the confidence band of the training accuracy to see whether the learning curves improve."
   ]
  },
  {
   "cell_type": "markdown",
   "metadata": {},
   "source": [
    "### Make learning curve"
   ]
  },
  {
   "cell_type": "code",
   "execution_count": null,
   "metadata": {},
   "outputs": [],
   "source": [
    "logreg_mod = LogisticRegression(penalty = 'l1', C = 0.6, random_state = 1) #moderate regularization"
   ]
  },
  {
   "cell_type": "markdown",
   "metadata": {},
   "source": [
    "#### Moderate setting:"
   ]
  },
  {
   "cell_type": "code",
   "execution_count": null,
   "metadata": {},
   "outputs": [],
   "source": [
    "train_sizes_learn, train_scores_learn, test_scores_learn = \\\n",
    "    learning_curve(estimator= logreg_mod,\n",
    "                   X=X_dev_vec_b,\n",
    "                   y=y_dev_b,\n",
    "                   train_sizes=np.linspace(0.1, 1.0, 10),\n",
    "                   scoring=A,                 \n",
    "                   cv=10)"
   ]
  },
  {
   "cell_type": "code",
   "execution_count": null,
   "metadata": {},
   "outputs": [],
   "source": [
    "acc_ = pd.DataFrame({'Train':train_scores_learn.mean(axis=1),\n",
    "                     'Test':test_scores_learn.mean(axis=1)})\\\n",
    "        .set_index(pd.Index(train_sizes_learn,name='sample size')) \n",
    "print(acc_.head())"
   ]
  },
  {
   "cell_type": "code",
   "execution_count": null,
   "metadata": {},
   "outputs": [],
   "source": [
    "f_learn, ax = plt.subplots(figsize=(10,4))\n",
    "acc_.plot(ax=ax)\n",
    "ax.fill_between(train_sizes_learn,\n",
    "                train_scores_learn.mean(1) + train_scores_learn.std(1)*1.96,\n",
    "                train_scores_learn.mean(1) - train_scores_learn.std(1)*1.96, \n",
    "                alpha=0.25, \n",
    "                color='blue')\n",
    "ax.set_ylabel('Accuracy')\n",
    "\n",
    "print('This learning curve looks ok regarding the size of our training data:')"
   ]
  },
  {
   "cell_type": "markdown",
   "metadata": {},
   "source": [
    "### Fit final logistic regression classification model to training and test data"
   ]
  },
  {
   "cell_type": "markdown",
   "metadata": {},
   "source": [
    "We now fit the final model, with `C` = 0.6 to our training and test data."
   ]
  },
  {
   "cell_type": "code",
   "execution_count": null,
   "metadata": {},
   "outputs": [],
   "source": [
    "sentiment_logreg_mod = logreg_mod.fit(X_dev_vec_b, y_dev_b)\n",
    "print('Training Accuracy: ', A(sentiment_logreg_mod, X_dev_vec_b, y_dev_b))\n",
    "print('Test Accuracy: ', A(sentiment_logreg_mod, X_test_vec_b, y_test_b))"
   ]
  },
  {
   "cell_type": "markdown",
   "metadata": {},
   "source": [
    "The training is much lower and it is reasonably close to the test accuracy. We can now investigate the estimated coeficients to the test data to see which tokens predict positive and negative reviews."
   ]
  },
  {
   "cell_type": "code",
   "execution_count": null,
   "metadata": {},
   "outputs": [],
   "source": [
    "#Put tokens, coefficients and odds ratios in one dataframe\n",
    "coef_tokens = pd.concat([pd.Series(tokens_b), pd.DataFrame(sentiment_logreg_mod.coef_.T), pd.DataFrame(np.exp(sentiment_logreg_mod.coef_).T)], axis = 1) \n",
    "coef_tokens.columns = ['Token', 'Coef', 'OR']\n",
    "\n",
    "#Count the amount of tokens with non-zero coefficient value\n",
    "print((coef_tokens['Coef'] != 0).value_counts()) "
   ]
  },
  {
   "cell_type": "code",
   "execution_count": null,
   "metadata": {
    "scrolled": true
   },
   "outputs": [],
   "source": [
    "coef_tokens = coef_tokens[coef_tokens.Coef != 0] #remove tokens with zero coefficient value and exponentiate to get odds ratio\n",
    "coef_tokens_sorted = coef_tokens.sort_values('Coef')\n",
    "print(coef_tokens_sorted[['Token', 'Coef', 'OR']]) #sort and print to get highest and lowest coefficients"
   ]
  },
  {
   "cell_type": "markdown",
   "metadata": {},
   "source": [
    "Now lets plot these:"
   ]
  },
  {
   "cell_type": "code",
   "execution_count": null,
   "metadata": {},
   "outputs": [],
   "source": [
    "top_features_n = 10\n",
    "top_features_p = 8\n",
    "top_features = 18\n",
    "\n",
    "top_pos_coef = coef_tokens_sorted.iloc[-top_features_p:]\n",
    "top_neg_coef = coef_tokens_sorted.iloc[:top_features_n]\n",
    "top = pd.concat([top_pos_coef, top_neg_coef], axis = 0).sort_values('Coef')\n",
    "print(top)\n",
    "colors = ['red' if c > 0 else 'blue' for c in top['Coef']]\n",
    "\n",
    "\n",
    "barplot, ax = plt.subplots(figsize=(10,4))\n",
    "plt.tight_layout()\n",
    "plt.bar(np.arange(top_features), top['Coef'], color=colors)\n",
    "features = np.array(top['Token'])\n",
    "plt.xticks(np.arange(0, top_features), top['Token'], rotation=60, ha='right')\n",
    "plt.yticks([-10, -5, 0, 5, 10])\n",
    "ax.spines['top'].set_visible(False) #remove borders\n",
    "ax.spines['right'].set_visible(False)\n",
    "ax.spines['bottom'].set_visible(True)\n",
    "ax.spines['left'].set_visible(True)\n",
    "#plt.tick_params(top='off', right='off')#control tick marks\n",
    "ax.axhline(y=0, xmin=0, xmax=20, color = 'black', linestyle = 'dashed', linewidth = 1)\n",
    "ax.tick_params(axis='both', which='major', labelsize=12) #change size of tick labels\n",
    "ax.set_ylabel(\"Coefficient\", fontsize=16)\n",
    "plt.gcf().subplots_adjust(bottom=0.22, left = 0.1)\n",
    "plt.savefig('CoefficientsLogistic_b.png')"
   ]
  },
  {
   "cell_type": "markdown",
   "metadata": {},
   "source": [
    "<br><br>\n",
    "## Implement the Naive Bayes Classifier"
   ]
  },
  {
   "cell_type": "markdown",
   "metadata": {},
   "source": [
    "First we naïvely fit the Naive Bayes classifier to the training data. "
   ]
  },
  {
   "cell_type": "code",
   "execution_count": null,
   "metadata": {},
   "outputs": [],
   "source": [
    "sentiment_NB = NB.fit(X_dev_vec_b.toarray(), y_dev_b) #need to convert to np array, not sparse\n",
    "\n",
    "print('Training Accuracy: ', A(sentiment_NB, X_dev_vec_b.toarray(), np.array(y_dev_b)))"
   ]
  },
  {
   "cell_type": "markdown",
   "metadata": {},
   "source": [
    "The accuracy value of both the training data is low. Perhaps we should fit a learning curve to investigate the bias and variance of the model and see whether we are over/under fitting."
   ]
  },
  {
   "cell_type": "markdown",
   "metadata": {},
   "source": [
    "### Make a learning curve"
   ]
  },
  {
   "cell_type": "code",
   "execution_count": null,
   "metadata": {},
   "outputs": [],
   "source": [
    "train_sizes_learn, train_scores_learn, test_scores_learn = \\\n",
    "    learning_curve(estimator= NB,\n",
    "                   X=X_dev_vec_b.toarray(),\n",
    "                   y=y_dev_b,\n",
    "                   train_sizes=np.linspace(0.1, 1.0, 10),\n",
    "                   scoring=A,                 \n",
    "                   cv=10)"
   ]
  },
  {
   "cell_type": "code",
   "execution_count": null,
   "metadata": {},
   "outputs": [],
   "source": [
    "acc_ = pd.DataFrame({'Train':train_scores_learn.mean(axis=1),\n",
    "                     'Test':test_scores_learn.mean(axis=1)})\\\n",
    "        .set_index(pd.Index(train_sizes_learn,name='sample size'))    \n",
    "print(acc_.head())"
   ]
  },
  {
   "cell_type": "code",
   "execution_count": null,
   "metadata": {},
   "outputs": [],
   "source": [
    "f_learn, ax = plt.subplots(figsize=(10,4))\n",
    "acc_.plot(ax=ax)\n",
    "ax.fill_between(train_sizes_learn,\n",
    "                train_scores_learn.mean(1) + train_scores_learn.std(1)*1.96,\n",
    "                train_scores_learn.mean(1) - train_scores_learn.std(1)*1.96, \n",
    "                alpha=0.25, \n",
    "                color='blue')\n",
    "ax.set_ylabel('Accuracy')\n",
    "\n",
    "print('There is too much variance and bias according to this learning curve:')"
   ]
  },
  {
   "cell_type": "markdown",
   "metadata": {},
   "source": [
    "Because the learning curve too much variance and bias we want to see whether we can optimize the prior of the Naive Bayes classifier. This may be a controversial idea. Ideally, when we fit Bayesian models we need to specify a prior, that reflects our belief about the 'truth', in this case the proportion of negative and positive sentiments, before we fit a model. These prior probabilities could for example be derived from our knowledge of the proportions in the wider population, perhaps gained from  the literature. It would thus be odd to optimize a model based on the prior. We may also consider setting the prior to the proportions from the training set; this is what is done by default in the Naive Bayes classifier from sklearn. According to http://citeseerx.ist.psu.edu/viewdoc/download?doi=10.1.1.59.2085&rep=rep1&type=pdf putting a uniform prior may actually improve performance. "
   ]
  },
  {
   "cell_type": "code",
   "execution_count": null,
   "metadata": {},
   "outputs": [],
   "source": [
    "NB_unif = BernoulliNB(class_prior = [0.5, 0.5])"
   ]
  },
  {
   "cell_type": "code",
   "execution_count": null,
   "metadata": {},
   "outputs": [],
   "source": [
    "train_sizes_learn, train_scores_learn, test_scores_learn = \\\n",
    "    learning_curve(estimator= NB_unif,\n",
    "                   X=X_dev_vec_b.toarray(),\n",
    "                   y=y_dev_b,\n",
    "                   train_sizes=np.linspace(0.1, 1.0, 10),\n",
    "                   scoring=A,                 \n",
    "                   cv=10)"
   ]
  },
  {
   "cell_type": "code",
   "execution_count": null,
   "metadata": {},
   "outputs": [],
   "source": [
    "acc_ = pd.DataFrame({'Train':train_scores_learn.mean(axis=1),\n",
    "                     'Test':test_scores_learn.mean(axis=1)})\\\n",
    "        .set_index(pd.Index(train_sizes_learn,name='sample size'))    \n",
    "print(acc_.head())"
   ]
  },
  {
   "cell_type": "code",
   "execution_count": null,
   "metadata": {},
   "outputs": [],
   "source": [
    "f_learn, ax = plt.subplots(figsize=(10,4))\n",
    "acc_.plot(ax=ax)\n",
    "ax.fill_between(train_sizes_learn,\n",
    "                train_scores_learn.mean(1) + train_scores_learn.std(1)*1.96,\n",
    "                train_scores_learn.mean(1) - train_scores_learn.std(1)*1.96, \n",
    "                alpha=0.25, \n",
    "                color='blue')\n",
    "ax.set_ylabel('Accuracy')\n",
    "\n",
    "print('This looks very much like the curve above:')"
   ]
  },
  {
   "cell_type": "markdown",
   "metadata": {},
   "source": [
    "Since adapting the prior does not see to change the learning curve a lot we could try to optimize the smoothing parameter `alpha`. This parameter determines the smooting of the prior and accounts for features not present in the learning samples and prevents zero probabilities in further computations. "
   ]
  },
  {
   "cell_type": "markdown",
   "metadata": {},
   "source": [
    "### Make a Validation curve"
   ]
  },
  {
   "cell_type": "code",
   "execution_count": null,
   "metadata": {},
   "outputs": [],
   "source": [
    "alphas = np.linspace(0.001, 5, 20)\n",
    "\n",
    "train_scores_val, test_scores_val = \\\n",
    "    validation_curve(estimator= NB,\n",
    "                     X=X_dev_vec_b,\n",
    "                     y=y_dev_b,\n",
    "                     param_name='alpha',\n",
    "                     param_range=alphas,\n",
    "                     scoring=A,                 \n",
    "                     cv=10)"
   ]
  },
  {
   "cell_type": "code",
   "execution_count": null,
   "metadata": {},
   "outputs": [],
   "source": [
    "acc_ = pd.DataFrame({'Train':train_scores_val.mean(axis=1),\n",
    "                     'Test':test_scores_val.mean(axis=1)})\\\n",
    "        .set_index(pd.Index(alphas,name='smoothing'))    \n",
    "print(acc_.head())"
   ]
  },
  {
   "cell_type": "code",
   "execution_count": null,
   "metadata": {},
   "outputs": [],
   "source": [
    "f_val, ax = plt.subplots(figsize=(10,4))\n",
    "acc_.plot(ax=ax)\n",
    "ax.fill_between(alphas,\n",
    "                train_scores_val.mean(1) + train_scores_val.std(1)*1.96,\n",
    "                train_scores_val.mean(1) - train_scores_val.std(1)*1.96, \n",
    "                alpha=0.25, \n",
    "                color='blue')\n",
    "ax.set_ylabel('Accuracy')\n",
    "print('There seems to be a decrease in bias for lower alpha values, \\nthe variance however becomes larger:')"
   ]
  },
  {
   "cell_type": "markdown",
   "metadata": {},
   "source": [
    "The best `alpha` for which the training accuracy is still within the confidence bands of the training accuracy is about 2.5. "
   ]
  },
  {
   "cell_type": "markdown",
   "metadata": {},
   "source": [
    "### Fit the final naive Bayes classifier to the training and test data"
   ]
  },
  {
   "cell_type": "markdown",
   "metadata": {},
   "source": [
    "We now fit the final model to our training and test data"
   ]
  },
  {
   "cell_type": "code",
   "execution_count": null,
   "metadata": {},
   "outputs": [],
   "source": [
    "NB_adj_alpha = BernoulliNB(alpha = 2.5)\n",
    "\n",
    "sentiment_NB_adj = NB_adj_alpha.fit(X_dev_vec_b.toarray(), np.array(y_dev_b)) \n",
    "\n",
    "print('Training Accuracy: ', A(sentiment_NB_adj, X_dev_vec_b.toarray(), np.array(y_dev_b)))\n",
    "print('Test Accuracy: ', A(sentiment_NB_adj, X_test_vec_b.toarray(), np.array(y_test_b)))"
   ]
  },
  {
   "cell_type": "code",
   "execution_count": null,
   "metadata": {},
   "outputs": [],
   "source": [
    "#Put tokens and coefficients in one dataframe\n",
    "feat_prob = pd.DataFrame(np.exp(sentiment_NB.feature_log_prob_).T)\n",
    "feat_prob.columns = ['Negative', \"Positive\"]\n",
    "\n",
    "#compute the ratio of probability of being predicted as a negative vs positive sentiment divided by the sum of probabilities\n",
    "feat_prob_ratio_neg = (feat_prob['Negative']/feat_prob['Positive'])*(feat_prob['Negative'])\n",
    "feat_prob_ratio_pos = (feat_prob['Positive']/feat_prob['Negative'])*(feat_prob['Positive'])\n",
    "\n",
    "coef_tokens = pd.concat([pd.Series(tokens_b), feat_prob, feat_prob_ratio_neg, feat_prob_ratio_pos], axis = 1) \n",
    "coef_tokens.columns = ['Token', 'Negative', \"Positive\", \"RatioNP\", 'RatioPN']\n",
    "\n",
    "\n",
    "#Sort\n",
    "\n",
    "coef_tokens['highest'] = abs(coef_tokens[[\"RatioNP\", \"RatioPN\"]]).max(axis=1)\n",
    "coef_high = coef_tokens.sort_values('highest', ascending = False)\n",
    "coef_high['color'] = (coef_high['RatioNP'] > coef_high['RatioPN']).replace([False, True], ['red', 'blue'])\n",
    "coef_high_sorted_neg = coef_tokens.sort_values(['RatioNP'], ascending = False)\n",
    "coef_high_sorted_pos = coef_tokens.sort_values(['RatioPN'], ascending = False)\n",
    "\n",
    "#Print\n",
    "print(coef_high.head(20))\n"
   ]
  },
  {
   "cell_type": "markdown",
   "metadata": {},
   "source": [
    "Lets plot these:"
   ]
  },
  {
   "cell_type": "code",
   "execution_count": null,
   "metadata": {},
   "outputs": [],
   "source": [
    "top_features = 20\n",
    "\n",
    "top = coef_high.iloc[:top_features].sort_values(['RatioNP','highest'], ascending = False)\n",
    "colors = top['color']\n",
    "\n",
    "barplot, ax = plt.subplots(figsize=(10,4))\n",
    "plt.tight_layout()\n",
    "plt.bar(np.arange(top_features), top.highest, color = colors)\n",
    "features = top.Token\n",
    "plt.xticks(np.arange(0, top_features), features, rotation=60, ha='right')\n",
    "\n",
    "ax.spines['top'].set_visible(False) #remove borders\n",
    "ax.spines['right'].set_visible(False)\n",
    "ax.spines['bottom'].set_visible(True)\n",
    "ax.spines['left'].set_visible(True)\n",
    "\n",
    "ax.tick_params(axis='both', which='major', labelsize=12) #change size of tick labels\n",
    "ax.set_ylabel(\"Discrimination\", fontsize=16)\n",
    "\n",
    "print(features)\n",
    "plt.gcf().subplots_adjust(bottom=0.22, left = 0.1)\n",
    "plt.savefig('CoefficientsEB_b.png')"
   ]
  },
  {
   "cell_type": "markdown",
   "metadata": {},
   "source": [
    "<br><br>\n",
    "## Implement a support vector classifier"
   ]
  },
  {
   "cell_type": "markdown",
   "metadata": {},
   "source": [
    "First we naïvely fit the support vector classifier to the training data. We choose a value of 5 for the regularization parameter `C`. This is actually the inverse of the regularization strength so a lower value means stronger regularization. We use the `l1` penalty because we want to have a sparse solution (we want to set some coefficients to 0) for interpretation purposes."
   ]
  },
  {
   "cell_type": "code",
   "execution_count": null,
   "metadata": {},
   "outputs": [],
   "source": [
    "#First we naïvely fit the model:\n",
    "sentiment_svc_lib = svc_lib.fit(X_dev_vec_b, y_dev_b) \n",
    "\n",
    "#Investigate the accuracy of the training data\n",
    "print('Training Accuracy: ', A(sentiment_svc_lib, X_dev_vec_b, np.array(y_dev_b))) "
   ]
  },
  {
   "cell_type": "markdown",
   "metadata": {},
   "source": [
    "The accuracy value of the training data is very high and there might be a large difference with the test data. Perhaps we should fit a learning curve to investigate the bias and variance of the model and see whether we are over/under fitting."
   ]
  },
  {
   "cell_type": "markdown",
   "metadata": {},
   "source": [
    "### Make a learning curve"
   ]
  },
  {
   "cell_type": "code",
   "execution_count": null,
   "metadata": {},
   "outputs": [],
   "source": [
    "train_sizes_learn, train_scores_learn, test_scores_learn = \\\n",
    "    learning_curve(estimator= svc_lib,\n",
    "                     X=X_dev_vec_b,\n",
    "                     y=y_dev_b,\n",
    "                     train_sizes=np.linspace(0.1, 1.0, 10),\n",
    "                     scoring=A,                 \n",
    "                     cv=10)"
   ]
  },
  {
   "cell_type": "code",
   "execution_count": null,
   "metadata": {},
   "outputs": [],
   "source": [
    "acc_ = pd.DataFrame({'Train':train_scores_learn.mean(axis=1),\n",
    "                     'Test':test_scores_learn.mean(axis=1)})\\\n",
    "        .set_index(pd.Index(train_sizes_learn,name='sample size'))    \n",
    "print(acc_.head())"
   ]
  },
  {
   "cell_type": "code",
   "execution_count": null,
   "metadata": {},
   "outputs": [],
   "source": [
    "f_learn, ax = plt.subplots(figsize=(10,4))\n",
    "acc_.plot(ax=ax)\n",
    "ax.fill_between(train_sizes_learn,\n",
    "                train_scores_learn.mean(1) + train_scores_learn.std(1)*1.96,\n",
    "                train_scores_learn.mean(1) - train_scores_learn.std(1)*1.96, \n",
    "                alpha=0.25, \n",
    "                color='blue')\n",
    "ax.set_ylabel('Accuracy')\n",
    "\n",
    "print('This learning has too much variance')"
   ]
  },
  {
   "cell_type": "markdown",
   "metadata": {},
   "source": [
    "Because the learning curve shows a lot of variance we want to see whether we can optimize the regularization parameter of the support vector classifier. In particular we should consider setting the regularization parameter to a more conservative (thus lower) value.  We do this by making a validation curve plotting the training and test accuracy for several value of `C`."
   ]
  },
  {
   "cell_type": "markdown",
   "metadata": {},
   "source": [
    "### Make a validation curve"
   ]
  },
  {
   "cell_type": "code",
   "execution_count": null,
   "metadata": {},
   "outputs": [],
   "source": [
    "Cs = np.linspace(0.001, 5, 20)\n",
    "\n",
    "train_scores_val, test_scores_val = \\\n",
    "    validation_curve(estimator= svc_lib,\n",
    "                     X=X_dev_vec_b,\n",
    "                     y=y_dev_b,\n",
    "                     param_name='C',\n",
    "                     param_range=Cs,\n",
    "                     scoring=A,                 \n",
    "                     cv=10)"
   ]
  },
  {
   "cell_type": "code",
   "execution_count": null,
   "metadata": {},
   "outputs": [],
   "source": [
    "acc_ = pd.DataFrame({'Train':train_scores_val.mean(axis=1),\n",
    "                     'Test':test_scores_val.mean(axis=1)})\\\n",
    "        .set_index(pd.Index(Cs,name='regularization'))    \n",
    "print(acc_.head())"
   ]
  },
  {
   "cell_type": "code",
   "execution_count": null,
   "metadata": {},
   "outputs": [],
   "source": [
    "f_val, ax = plt.subplots(figsize=(10,4))\n",
    "acc_.plot(ax=ax)\n",
    "ax.fill_between(Cs,\n",
    "                train_scores_val.mean(1) + train_scores_val.std(1)*1.96,\n",
    "                train_scores_val.mean(1) - train_scores_val.std(1)*1.96, \n",
    "                alpha=0.25, \n",
    "                color='blue')\n",
    "ax.set_ylabel('Accuracy')"
   ]
  },
  {
   "cell_type": "markdown",
   "metadata": {},
   "source": [
    "We see that the average prediction accuracy (between training and test set) starts decreasing steeply after a `C` value of 1. Lets plot a more detailed validation curve for values lower than 1."
   ]
  },
  {
   "cell_type": "code",
   "execution_count": null,
   "metadata": {},
   "outputs": [],
   "source": [
    "Cs = np.linspace(0.001, 1, 20)\n",
    "\n",
    "train_scores_val, test_scores_val = \\\n",
    "    validation_curve(estimator= svc_lib,\n",
    "                     X=X_dev_vec_b,\n",
    "                     y=y_dev_b,\n",
    "                     param_name='C',\n",
    "                     param_range=Cs,\n",
    "                     scoring=A,                 \n",
    "                     cv=10)"
   ]
  },
  {
   "cell_type": "code",
   "execution_count": null,
   "metadata": {},
   "outputs": [],
   "source": [
    "acc_ = pd.DataFrame({'Train':train_scores_val.mean(axis=1),\n",
    "                     'Test':test_scores_val.mean(axis=1)})\\\n",
    "        .set_index(pd.Index(Cs,name='regularization'))    \n",
    "print(acc_.head())"
   ]
  },
  {
   "cell_type": "code",
   "execution_count": null,
   "metadata": {},
   "outputs": [],
   "source": [
    "f_val, ax = plt.subplots(figsize=(10,4))\n",
    "acc_.plot(ax=ax)\n",
    "ax.fill_between(Cs,\n",
    "                train_scores_val.mean(1) + train_scores_val.std(1)*1.96,\n",
    "                train_scores_val.mean(1) - train_scores_val.std(1)*1.96, \n",
    "                alpha=0.25, \n",
    "                color='blue')\n",
    "ax.set_ylabel('Accuracy')"
   ]
  },
  {
   "cell_type": "markdown",
   "metadata": {},
   "source": [
    "We select a regularization setting `C` = 0.15 for which the test accuracy is still within the confidence bands of the training accuracy to see whether the learning curves improve."
   ]
  },
  {
   "cell_type": "markdown",
   "metadata": {},
   "source": [
    "### Make learning curve"
   ]
  },
  {
   "cell_type": "code",
   "execution_count": null,
   "metadata": {},
   "outputs": [],
   "source": [
    "svc_mod = LinearSVC(penalty = 'l1', C = 0.15, random_state = 1, dual = False) #moderate regularization"
   ]
  },
  {
   "cell_type": "code",
   "execution_count": null,
   "metadata": {},
   "outputs": [],
   "source": [
    "train_sizes_learn, train_scores_learn, test_scores_learn = \\\n",
    "    learning_curve(estimator= svc_mod,\n",
    "                     X=X_dev_vec_b,\n",
    "                     y=y_dev_b,\n",
    "                     train_sizes=np.linspace(0.1, 1.0, 10),\n",
    "                     scoring=A,                 \n",
    "                     cv=10)"
   ]
  },
  {
   "cell_type": "code",
   "execution_count": null,
   "metadata": {},
   "outputs": [],
   "source": [
    "acc_ = pd.DataFrame({'Train':train_scores_learn.mean(axis=1),\n",
    "                     'Test':test_scores_learn.mean(axis=1)})\\\n",
    "        .set_index(pd.Index(train_sizes_learn,name='sample size'))    \n",
    "print(acc_.head())"
   ]
  },
  {
   "cell_type": "code",
   "execution_count": null,
   "metadata": {},
   "outputs": [],
   "source": [
    "f_learn, ax = plt.subplots(figsize=(10,4))\n",
    "acc_.plot(ax=ax)\n",
    "ax.fill_between(train_sizes_learn,\n",
    "                train_scores_learn.mean(1) + train_scores_learn.std(1)*1.96,\n",
    "                train_scores_learn.mean(1) - train_scores_learn.std(1)*1.96, \n",
    "                alpha=0.25, \n",
    "                color='blue')\n",
    "ax.set_ylabel('Accuracy')\n",
    "\n",
    "print('Seems ok for our sample size')"
   ]
  },
  {
   "cell_type": "markdown",
   "metadata": {},
   "source": [
    "### Fit final support vector classification model to training and test data"
   ]
  },
  {
   "cell_type": "markdown",
   "metadata": {},
   "source": [
    "We now fit the final model, with `C` = 0.15 to our training and test data."
   ]
  },
  {
   "cell_type": "code",
   "execution_count": null,
   "metadata": {},
   "outputs": [],
   "source": [
    "sentiment_svc_mod = svc_mod.fit(X_dev_vec_b, y_dev_b)\n",
    "print('Training Accuracy: ', A(sentiment_svc_mod, X_dev_vec_b, y_dev_b))\n",
    "print('Test Accuracy: ', A(sentiment_svc_mod, X_test_vec_b, y_test_b))"
   ]
  },
  {
   "cell_type": "markdown",
   "metadata": {},
   "source": [
    "The training and test accuracy are now much lower and closer together. We can now investigate the estimated coeficients to the test data to see which tokens predict positive and negative reviews."
   ]
  },
  {
   "cell_type": "code",
   "execution_count": null,
   "metadata": {},
   "outputs": [],
   "source": [
    "#Put tokens and coefficients in one dataframe\n",
    "coef_tokens = pd.concat([pd.Series(tokens_b), pd.DataFrame(sentiment_svc_mod.coef_.T)], axis = 1) \n",
    "coef_tokens.columns = ['Token', 'Coef']\n",
    "\n",
    "#Count the amount of tokens with non-zero coefficient value\n",
    "print((coef_tokens['Coef'] != 0).value_counts()) "
   ]
  },
  {
   "cell_type": "code",
   "execution_count": null,
   "metadata": {},
   "outputs": [],
   "source": [
    "coef_tokens = coef_tokens[coef_tokens.Coef != 0] #remove tokens with zero coefficient value\n",
    "coef_tokens_sorted = coef_tokens.sort_values('Coef')#sort and print to get highest and lowest coefficients\n",
    "print(coef_tokens_sorted[['Token', 'Coef']]) \n"
   ]
  },
  {
   "cell_type": "markdown",
   "metadata": {},
   "source": [
    "Lets plot these:"
   ]
  },
  {
   "cell_type": "code",
   "execution_count": null,
   "metadata": {},
   "outputs": [],
   "source": [
    "top_features_n = 10\n",
    "top_features_p = 8\n",
    "top_features = 18\n",
    "\n",
    "top_pos_coef = coef_tokens_sorted.iloc[-top_features_p:]\n",
    "top_neg_coef = coef_tokens_sorted.iloc[:top_features_n]\n",
    "top = pd.concat([top_pos_coef, top_neg_coef], axis = 0).sort_values('Coef')\n",
    "print(top)\n",
    "colors = ['red' if c > 0 else 'blue' for c in top['Coef']]\n",
    "\n",
    "\n",
    "barplot, ax = plt.subplots(figsize=(10,4))\n",
    "plt.tight_layout()\n",
    "plt.bar(np.arange(top_features), top['Coef'], color=colors)\n",
    "features = np.array(top['Token'])\n",
    "plt.xticks(np.arange(0, top_features), top['Token'], rotation=60, ha='right')\n",
    "plt.yticks([ -4, -2, 0, 2, 4])\n",
    "ax.spines['top'].set_visible(False) #remove borders\n",
    "ax.spines['right'].set_visible(False)\n",
    "ax.spines['bottom'].set_visible(True)\n",
    "ax.spines['left'].set_visible(True)\n",
    "#plt.tick_params(top='off', right='off')#control tick marks\n",
    "ax.axhline(y=0, xmin=0, xmax=20, color = 'black', linestyle = 'dashed', linewidth = 1)\n",
    "ax.tick_params(axis='both', which='major', labelsize=12) #change size of tick labels\n",
    "ax.set_ylabel(\"Vector Coordinate\", fontsize=16)\n",
    "\n",
    "plt.gcf().subplots_adjust(bottom=0.22, left = 0.1)\n",
    "plt.savefig('CoefficientsSVC_b.png')"
   ]
  },
  {
   "cell_type": "markdown",
   "metadata": {},
   "source": [
    "<br><br>\n",
    "# Classification during September 2014"
   ]
  },
  {
   "cell_type": "markdown",
   "metadata": {},
   "source": [
    "<br><br>\n",
    "## Implement the logistic regression classifier"
   ]
  },
  {
   "cell_type": "markdown",
   "metadata": {},
   "source": [
    "First we naïvely fit the logistic regression classifier to the training data. We choose a value of 5 for the regularization parameter `C`. This is actually the inverse of the regularization strength so a lower value means stronger regularization. We use the `l1` penalty because we want to have a sparse solution (we want to set some coefficients to 0) for interpretation purposes."
   ]
  },
  {
   "cell_type": "code",
   "execution_count": null,
   "metadata": {},
   "outputs": [],
   "source": [
    "#First we naïvely fit the model:\n",
    "sentiment_logreg_lib = logreg_lib.fit(X_dev_vec_d, y_dev_d) \n",
    "\n",
    "#Investigate the accuracy of the training data\n",
    "print('Training Accuracy: ', A(sentiment_logreg_lib, X_dev_vec_d, np.array(y_dev_d))) "
   ]
  },
  {
   "cell_type": "markdown",
   "metadata": {},
   "source": [
    "The accuracy value of the training data is very high and there might be a large difference with the test data. Perhaps we should fit a learning curve to investigate the bias and variance of the model and see whether we are over/under fitting."
   ]
  },
  {
   "cell_type": "markdown",
   "metadata": {},
   "source": [
    "### Make a learning curve"
   ]
  },
  {
   "cell_type": "code",
   "execution_count": null,
   "metadata": {},
   "outputs": [],
   "source": [
    "from sklearn.model_selection import learning_curve\n",
    "\n",
    "train_sizes_learn, train_scores_learn, test_scores_learn = \\\n",
    "    learning_curve(estimator= logreg_lib,\n",
    "                   X=X_dev_vec_d,\n",
    "                   y=y_dev_d,\n",
    "                   train_sizes=np.linspace(0.1, 1.0, 10),\n",
    "                   scoring=A,                 \n",
    "                   cv=10)"
   ]
  },
  {
   "cell_type": "code",
   "execution_count": null,
   "metadata": {},
   "outputs": [],
   "source": [
    "acc_ = pd.DataFrame({'Train':train_scores_learn.mean(axis=1),\n",
    "                     'Test':test_scores_learn.mean(axis=1)})\\\n",
    "        .set_index(pd.Index(train_sizes_learn,name='sample size'))    \n",
    "print(acc_.head())"
   ]
  },
  {
   "cell_type": "code",
   "execution_count": null,
   "metadata": {},
   "outputs": [],
   "source": [
    "f_learn, ax = plt.subplots(figsize=(10,4))\n",
    "acc_.plot(ax=ax)\n",
    "ax.fill_between(train_sizes_learn,\n",
    "                train_scores_learn.mean(1) + train_scores_learn.std(1)*1.96,\n",
    "                train_scores_learn.mean(1) - train_scores_learn.std(1)*1.96, \n",
    "                alpha=0.25, \n",
    "                color='blue')\n",
    "ax.set_ylabel('Accuracy')\n",
    "\n",
    "print('This learning curve shows too much variance:')\n"
   ]
  },
  {
   "cell_type": "markdown",
   "metadata": {},
   "source": [
    "Because the learning curve shows a lot of variance we want to see whether we can optimize the regularization parameter of the logistic regression model. In particular we should consider setting the regularization parameter to a more conservative (thus lower) value.  We do this by making a validation curve plotting the training and test accuracy for several value of `C`."
   ]
  },
  {
   "cell_type": "markdown",
   "metadata": {},
   "source": [
    "### Make a validation curve"
   ]
  },
  {
   "cell_type": "code",
   "execution_count": null,
   "metadata": {},
   "outputs": [],
   "source": [
    "from sklearn.model_selection import validation_curve\n",
    "\n",
    "Cs = np.linspace(0.001, 5, 20)\n",
    "\n",
    "train_scores_val, test_scores_val = \\\n",
    "    validation_curve(estimator= logreg_lib,\n",
    "                     X=X_dev_vec_d,\n",
    "                     y=y_dev_d,\n",
    "                     param_name='C',\n",
    "                     param_range=Cs,\n",
    "                     scoring=A,                 \n",
    "                     cv=10)"
   ]
  },
  {
   "cell_type": "code",
   "execution_count": null,
   "metadata": {},
   "outputs": [],
   "source": [
    "acc_ = pd.DataFrame({'Train':train_scores_val.mean(axis=1),\n",
    "                     'Test':test_scores_val.mean(axis=1)})\\\n",
    "        .set_index(pd.Index(Cs,name='regularization'))    \n",
    "print(acc_.head())"
   ]
  },
  {
   "cell_type": "code",
   "execution_count": null,
   "metadata": {},
   "outputs": [],
   "source": [
    "f_val, ax = plt.subplots(figsize=(10,4))\n",
    "acc_.plot(ax=ax)\n",
    "ax.fill_between(Cs,\n",
    "                train_scores_val.mean(1) + train_scores_val.std(1)*1.96,\n",
    "                train_scores_val.mean(1) - train_scores_val.std(1)*1.96, \n",
    "                alpha=0.25, \n",
    "                color='blue')\n",
    "ax.set_ylabel('Accuracy')"
   ]
  },
  {
   "cell_type": "markdown",
   "metadata": {},
   "source": [
    "Lets plot a more detailed validation curve for values lower than 2."
   ]
  },
  {
   "cell_type": "code",
   "execution_count": null,
   "metadata": {},
   "outputs": [],
   "source": [
    "Cs = np.linspace(0.001, 2, 20)\n",
    "\n",
    "train_scores_val, test_scores_val = \\\n",
    "    validation_curve(estimator= logreg_lib,\n",
    "                     X=X_dev_vec_d,\n",
    "                     y=y_dev_d,\n",
    "                     param_name='C',\n",
    "                     param_range=Cs,\n",
    "                     scoring=A,                 \n",
    "                     cv=10)"
   ]
  },
  {
   "cell_type": "code",
   "execution_count": null,
   "metadata": {},
   "outputs": [],
   "source": [
    "acc_ = pd.DataFrame({'Train':train_scores_val.mean(axis=1),\n",
    "                     'Test':test_scores_val.mean(axis=1)})\\\n",
    "        .set_index(pd.Index(Cs,name='regularization'))    \n",
    "print(acc_.head())"
   ]
  },
  {
   "cell_type": "code",
   "execution_count": null,
   "metadata": {},
   "outputs": [],
   "source": [
    "f_val, ax = plt.subplots(figsize=(10,4))\n",
    "acc_.plot(ax=ax)\n",
    "ax.fill_between(Cs,\n",
    "                train_scores_val.mean(1) + train_scores_val.std(1)*1.96,\n",
    "                train_scores_val.mean(1) - train_scores_val.std(1)*1.96, \n",
    "                alpha=0.25, \n",
    "                color='blue')\n",
    "ax.set_ylabel('Accuracy')"
   ]
  },
  {
   "cell_type": "markdown",
   "metadata": {},
   "source": [
    "Even with a regularization parameter very close to 0 we get a very high accuracy!! We select a regularization setting `C` = 0.8 for which the test accuracy is still within the training accuray confidence bands to see whether the learning curves improve."
   ]
  },
  {
   "cell_type": "markdown",
   "metadata": {},
   "source": [
    "### Make learning curve"
   ]
  },
  {
   "cell_type": "code",
   "execution_count": null,
   "metadata": {},
   "outputs": [],
   "source": [
    "logreg_mod = LogisticRegression(penalty = 'l1', C = 0.8, random_state = 1) "
   ]
  },
  {
   "cell_type": "code",
   "execution_count": null,
   "metadata": {},
   "outputs": [],
   "source": [
    "train_sizes_learn, train_scores_learn, test_scores_learn = \\\n",
    "    learning_curve(estimator= logreg_mod,\n",
    "                   X=X_dev_vec_d,\n",
    "                   y=y_dev_d,\n",
    "                   train_sizes=np.linspace(0.1, 1.0, 10),\n",
    "                   scoring=A,                 \n",
    "                   cv=10)"
   ]
  },
  {
   "cell_type": "code",
   "execution_count": null,
   "metadata": {},
   "outputs": [],
   "source": [
    "acc_ = pd.DataFrame({'Train':train_scores_learn.mean(axis=1),\n",
    "                     'Test':test_scores_learn.mean(axis=1)})\\\n",
    "        .set_index(pd.Index(train_sizes_learn,name='sample size')) \n",
    "print(acc_.head())"
   ]
  },
  {
   "cell_type": "code",
   "execution_count": null,
   "metadata": {},
   "outputs": [],
   "source": [
    "f_learn, ax = plt.subplots(figsize=(10,4))\n",
    "acc_.plot(ax=ax)\n",
    "ax.fill_between(train_sizes_learn,\n",
    "                train_scores_learn.mean(1) + train_scores_learn.std(1)*1.96,\n",
    "                train_scores_learn.mean(1) - train_scores_learn.std(1)*1.96, \n",
    "                alpha=0.25, \n",
    "                color='blue')\n",
    "ax.set_ylabel('Accuracy')\n",
    "\n",
    "print('This learning curve also looks ok for our sample size: ')"
   ]
  },
  {
   "cell_type": "markdown",
   "metadata": {},
   "source": [
    "### Fit final logistic regression classification model to training and test data"
   ]
  },
  {
   "cell_type": "markdown",
   "metadata": {},
   "source": [
    "We now fit the final model, with `C` = 0.8 to our training and test data."
   ]
  },
  {
   "cell_type": "code",
   "execution_count": null,
   "metadata": {},
   "outputs": [],
   "source": [
    "sentiment_logreg_mod = logreg_mod.fit(X_dev_vec_d, y_dev_d)\n",
    "print('Training Accuracy: ', A(sentiment_logreg_mod, X_dev_vec_d, y_dev_d))\n",
    "print('Test Accuracy: ', A(sentiment_logreg_mod, X_test_vec_d, y_test_d))"
   ]
  },
  {
   "cell_type": "markdown",
   "metadata": {},
   "source": [
    "The training is lower and it is reasonably close to the test accuracy. We can now investigate the estimated coeficients to the test data to see which tokens predict positive and negative reviews."
   ]
  },
  {
   "cell_type": "code",
   "execution_count": null,
   "metadata": {},
   "outputs": [],
   "source": [
    "#Put tokens, coefficients and odds ratios in one dataframe\n",
    "coef_tokens = pd.concat([pd.Series(tokens_d), pd.DataFrame(sentiment_logreg_mod.coef_.T), pd.DataFrame(np.exp(sentiment_logreg_mod.coef_).T)], axis = 1) \n",
    "coef_tokens.columns = ['Token', 'Coef', 'OR']\n",
    "\n",
    "#Count the amount of tokens with non-zero coefficient value\n",
    "print((coef_tokens['Coef'] != 0).value_counts()) "
   ]
  },
  {
   "cell_type": "code",
   "execution_count": null,
   "metadata": {
    "scrolled": true
   },
   "outputs": [],
   "source": [
    "coef_tokens = coef_tokens[coef_tokens.Coef != 0] #remove tokens with zero coefficient value and exponentiate to get odds ratio\n",
    "coef_tokens_sorted = coef_tokens.sort_values('Coef')\n",
    "print(coef_tokens_sorted[['Token', 'Coef', 'OR']]) #sort and print to get highest and lowest coefficients"
   ]
  },
  {
   "cell_type": "markdown",
   "metadata": {},
   "source": [
    "Now lets plot these:"
   ]
  },
  {
   "cell_type": "code",
   "execution_count": null,
   "metadata": {},
   "outputs": [],
   "source": [
    "top_features_n = 2\n",
    "top_features_p = 10\n",
    "\n",
    "top_features = 12\n",
    "\n",
    "top_pos_coef = coef_tokens_sorted.iloc[-top_features_p:]\n",
    "top_neg_coef = coef_tokens_sorted.iloc[:top_features_n]\n",
    "top = pd.concat([top_pos_coef, top_neg_coef], axis = 0).sort_values('Coef')\n",
    "print(top)\n",
    "colors = ['red' if c > 0 else 'blue' for c in top['Coef']]\n",
    "\n",
    "\n",
    "barplot, ax = plt.subplots(figsize=(10,4))\n",
    "plt.tight_layout()\n",
    "plt.bar(np.arange(top_features), top['Coef'], color=colors)\n",
    "features = np.array(top['Token'])\n",
    "plt.xticks(np.arange(0, top_features), top['Token'], rotation=60, ha='right')\n",
    "plt.yticks([-10, -5, 0, 5, 10])\n",
    "ax.spines['top'].set_visible(False) #remove borders\n",
    "ax.spines['right'].set_visible(False)\n",
    "ax.spines['bottom'].set_visible(True)\n",
    "ax.spines['left'].set_visible(True)\n",
    "#plt.tick_params(top='off', right='off')#control tick marks\n",
    "ax.axhline(y=0, xmin=0, xmax=20, color = 'black', linestyle = 'dashed', linewidth = 1)\n",
    "ax.tick_params(axis='both', which='major', labelsize=12) #change size of tick labels\n",
    "ax.set_ylabel(\"Coefficient\", fontsize=16)\n",
    "plt.gcf().subplots_adjust(bottom=0.22, left = 0.1)\n",
    "plt.savefig('CoefficientsLogistic_d.png')"
   ]
  },
  {
   "cell_type": "markdown",
   "metadata": {},
   "source": [
    "<br><br>\n",
    "## Implement the Naive Bayes Classifier"
   ]
  },
  {
   "cell_type": "markdown",
   "metadata": {},
   "source": [
    "First we naïvely fit the Naive Bayes classifier to the training data. "
   ]
  },
  {
   "cell_type": "code",
   "execution_count": null,
   "metadata": {},
   "outputs": [],
   "source": [
    "sentiment_NB = NB.fit(X_dev_vec_d.toarray(), y_dev_d) #need to convert to np array, not sparse\n",
    "\n",
    "print('Training Accuracy: ', A(sentiment_NB, X_dev_vec_d.toarray(), np.array(y_dev_d)))"
   ]
  },
  {
   "cell_type": "markdown",
   "metadata": {},
   "source": [
    "The accuracy value of the training data is quite high. Perhaps we should fit a learning curve to investigate the bias and variance of the model and see whether we are over/under fitting."
   ]
  },
  {
   "cell_type": "markdown",
   "metadata": {},
   "source": [
    "### Make a learning curve"
   ]
  },
  {
   "cell_type": "code",
   "execution_count": null,
   "metadata": {},
   "outputs": [],
   "source": [
    "train_sizes_learn, train_scores_learn, test_scores_learn = \\\n",
    "    learning_curve(estimator= NB,\n",
    "                   X=X_dev_vec_d.toarray(),\n",
    "                   y=y_dev_d,\n",
    "                   train_sizes=np.linspace(0.1, 1.0, 10),\n",
    "                   scoring=A,                 \n",
    "                   cv=10)"
   ]
  },
  {
   "cell_type": "code",
   "execution_count": null,
   "metadata": {},
   "outputs": [],
   "source": [
    "acc_ = pd.DataFrame({'Train':train_scores_learn.mean(axis=1),\n",
    "                     'Test':test_scores_learn.mean(axis=1)})\\\n",
    "        .set_index(pd.Index(train_sizes_learn,name='sample size'))    \n",
    "print(acc_.head())"
   ]
  },
  {
   "cell_type": "code",
   "execution_count": null,
   "metadata": {},
   "outputs": [],
   "source": [
    "f_learn, ax = plt.subplots(figsize=(10,4))\n",
    "acc_.plot(ax=ax)\n",
    "ax.fill_between(train_sizes_learn,\n",
    "                train_scores_learn.mean(1) + train_scores_learn.std(1)*1.96,\n",
    "                train_scores_learn.mean(1) - train_scores_learn.std(1)*1.96, \n",
    "                alpha=0.25, \n",
    "                color='blue')\n",
    "ax.set_ylabel('Accuracy')\n",
    "\n",
    "print('This learning curve looks ok:')"
   ]
  },
  {
   "cell_type": "markdown",
   "metadata": {},
   "source": [
    "Even though the learning curve does not show a lot of variance we want to see whether we can optimize the prior of the Naive Bayes classifier. This may be a controversial idea. Ideally, when we fit Bayesian models we need to specify a prior, that reflects our belief about the 'truth', in this case the proportion of negative and positive sentiments, before we fit a model. These prior probabilities could for example be derived from our knowledge of the proportions in the wider population, perhaps gained from  the literature. It would thus be odd to optimize a model based on the prior. We may also consider setting the prior to the proportions from the training set; this is what is done by default in the Naive Bayes classifier from sklearn. According to http://citeseerx.ist.psu.edu/viewdoc/download?doi=10.1.1.59.2085&rep=rep1&type=pdf putting a uniform prior may actually improve performance. "
   ]
  },
  {
   "cell_type": "code",
   "execution_count": null,
   "metadata": {},
   "outputs": [],
   "source": [
    "NB_unif = BernoulliNB(class_prior = [0.5, 0.5])"
   ]
  },
  {
   "cell_type": "code",
   "execution_count": null,
   "metadata": {},
   "outputs": [],
   "source": [
    "train_sizes_learn, train_scores_learn, test_scores_learn = \\\n",
    "    learning_curve(estimator= NB_unif,\n",
    "                   X=X_dev_vec_d.toarray(),\n",
    "                   y=y_dev_d,\n",
    "                   train_sizes=np.linspace(0.1, 1.0, 10),\n",
    "                   scoring=A,                 \n",
    "                   cv=10)"
   ]
  },
  {
   "cell_type": "code",
   "execution_count": null,
   "metadata": {},
   "outputs": [],
   "source": [
    "acc_ = pd.DataFrame({'Train':train_scores_learn.mean(axis=1),\n",
    "                     'Test':test_scores_learn.mean(axis=1)})\\\n",
    "        .set_index(pd.Index(train_sizes_learn,name='sample size'))    \n",
    "print(acc_.head())"
   ]
  },
  {
   "cell_type": "code",
   "execution_count": null,
   "metadata": {},
   "outputs": [],
   "source": [
    "f_learn, ax = plt.subplots(figsize=(10,4))\n",
    "acc_.plot(ax=ax)\n",
    "ax.fill_between(train_sizes_learn,\n",
    "                train_scores_learn.mean(1) + train_scores_learn.std(1)*1.96,\n",
    "                train_scores_learn.mean(1) - train_scores_learn.std(1)*1.96, \n",
    "                alpha=0.25, \n",
    "                color='blue')\n",
    "ax.set_ylabel('Accuracy')\n",
    "\n",
    "print('This looks very much like the curve above:')"
   ]
  },
  {
   "cell_type": "markdown",
   "metadata": {},
   "source": [
    "Since adapting the prior does not see to change the learning curve a lot we could try to optimize the smoothing parameter `alpha`. This parameter determines the smooting of the prior and accounts for features not present in the learning samples and prevents zero probabilities in further computations. "
   ]
  },
  {
   "cell_type": "markdown",
   "metadata": {},
   "source": [
    "### Make a Validation curve"
   ]
  },
  {
   "cell_type": "code",
   "execution_count": null,
   "metadata": {},
   "outputs": [],
   "source": [
    "alphas = np.linspace(0.001, 5, 20)\n",
    "\n",
    "train_scores_val, test_scores_val = \\\n",
    "    validation_curve(estimator= NB,\n",
    "                     X=X_dev_vec_d,\n",
    "                     y=y_dev_d,\n",
    "                     param_name='alpha',\n",
    "                     param_range=alphas,\n",
    "                     scoring=A,                 \n",
    "                     cv=10)"
   ]
  },
  {
   "cell_type": "code",
   "execution_count": null,
   "metadata": {},
   "outputs": [],
   "source": [
    "acc_ = pd.DataFrame({'Train':train_scores_val.mean(axis=1),\n",
    "                     'Test':test_scores_val.mean(axis=1)})\\\n",
    "        .set_index(pd.Index(alphas,name='smoothing'))    \n",
    "print(acc_.head())"
   ]
  },
  {
   "cell_type": "code",
   "execution_count": null,
   "metadata": {},
   "outputs": [],
   "source": [
    "f_val, ax = plt.subplots(figsize=(10,4))\n",
    "acc_.plot(ax=ax)\n",
    "ax.fill_between(alphas,\n",
    "                train_scores_val.mean(1) + train_scores_val.std(1)*1.96,\n",
    "                train_scores_val.mean(1) - train_scores_val.std(1)*1.96, \n",
    "                alpha=0.25, \n",
    "                color='blue')\n",
    "ax.set_ylabel('Accuracy')\n",
    "print('There is a decrease in variance for higher alpha values:')"
   ]
  },
  {
   "cell_type": "markdown",
   "metadata": {},
   "source": [
    "Setting the `alpha` parameter to 3 seems to be optimal. "
   ]
  },
  {
   "cell_type": "markdown",
   "metadata": {},
   "source": [
    "### Fit the final naive Bayes classifier to the training and test data"
   ]
  },
  {
   "cell_type": "markdown",
   "metadata": {},
   "source": [
    "We now fit the final model to our training and test data"
   ]
  },
  {
   "cell_type": "code",
   "execution_count": null,
   "metadata": {},
   "outputs": [],
   "source": [
    "NB_adj_alpha = BernoulliNB(alpha = 3)\n",
    "\n",
    "sentiment_NB_adj = NB_adj_alpha.fit(X_dev_vec_d.toarray(), np.array(y_dev_d)) \n",
    "#note that it set the alpha to 1.0e-10 to prevent numeric errors\n",
    "\n",
    "print('Training Accuracy: ', A(sentiment_NB_adj, X_dev_vec_d.toarray(), np.array(y_dev_d)))\n",
    "print('Test Accuracy: ', A(sentiment_NB_adj, X_test_vec_d.toarray(), np.array(y_test_d)))"
   ]
  },
  {
   "cell_type": "code",
   "execution_count": null,
   "metadata": {},
   "outputs": [],
   "source": [
    "#Put tokens and coefficients in one dataframe\n",
    "feat_prob = pd.DataFrame(np.exp(sentiment_NB.feature_log_prob_).T)\n",
    "feat_prob.columns = ['Negative', \"Positive\"]\n",
    "\n",
    "#compute the ratio of probability of being predicted as a negative vs positive sentiment divided by the sum of probabilities\n",
    "feat_prob_ratio_neg = (feat_prob['Negative']/feat_prob['Positive'])*(feat_prob['Negative'])\n",
    "feat_prob_ratio_pos = (feat_prob['Positive']/feat_prob['Negative'])*(feat_prob['Positive'])\n",
    "\n",
    "coef_tokens = pd.concat([pd.Series(tokens_d), feat_prob, feat_prob_ratio_neg, feat_prob_ratio_pos], axis = 1) \n",
    "coef_tokens.columns = ['Token', 'Negative', \"Positive\", \"RatioNP\", 'RatioPN']\n",
    "\n",
    "\n",
    "#Sort\n",
    "\n",
    "coef_tokens['highest'] = abs(coef_tokens[[\"RatioNP\", \"RatioPN\"]]).max(axis=1)\n",
    "coef_high = coef_tokens.sort_values('highest', ascending = False)\n",
    "coef_high['color'] = (coef_high['RatioNP'] > coef_high['RatioPN']).replace([False, True], ['red', 'blue'])\n",
    "coef_high_sorted_neg = coef_tokens.sort_values(['RatioNP'], ascending = False)\n",
    "coef_high_sorted_pos = coef_tokens.sort_values(['RatioPN'], ascending = False)\n",
    "\n",
    "#Print\n",
    "print(coef_high.head(20))\n"
   ]
  },
  {
   "cell_type": "markdown",
   "metadata": {},
   "source": [
    "Lets plot these:"
   ]
  },
  {
   "cell_type": "code",
   "execution_count": null,
   "metadata": {},
   "outputs": [],
   "source": [
    "top_features = 20\n",
    "\n",
    "top = coef_high.iloc[:top_features].sort_values(['color','highest'], ascending = True)\n",
    "colors = top['color']\n",
    "\n",
    "barplot, ax = plt.subplots(figsize=(10,4))\n",
    "plt.tight_layout()\n",
    "plt.bar(np.arange(top_features), top.highest, color = colors)\n",
    "features = top.Token\n",
    "plt.xticks(np.arange(0, top_features), features, rotation=60, ha='right')\n",
    "\n",
    "ax.spines['top'].set_visible(False) #remove borders\n",
    "ax.spines['right'].set_visible(False)\n",
    "ax.spines['bottom'].set_visible(True)\n",
    "ax.spines['left'].set_visible(True)\n",
    "\n",
    "ax.tick_params(axis='both', which='major', labelsize=12) #change size of tick labels\n",
    "ax.set_ylabel(\"Discrimination\", fontsize=16)\n",
    "\n",
    "print(features)\n",
    "plt.gcf().subplots_adjust(bottom=0.22, left = 0.1)\n",
    "\n",
    "plt.savefig('CoefficientsEB_d.png')"
   ]
  },
  {
   "cell_type": "markdown",
   "metadata": {},
   "source": [
    "<br><br>\n",
    "## Implement a support vector classifier"
   ]
  },
  {
   "cell_type": "markdown",
   "metadata": {},
   "source": [
    "First we naïvely fit the support vector classifier to the training data. We choose a value of 5 for the regularization parameter `C`. This is actually the inverse of the regularization strength so a lower value means stronger regularization. We use the `l1` penalty because we want to have a sparse solution (we want to set some coefficients to 0) for interpretation purposes."
   ]
  },
  {
   "cell_type": "code",
   "execution_count": null,
   "metadata": {},
   "outputs": [],
   "source": [
    "#First we naïvely fit the model:\n",
    "sentiment_svc_lib = svc_lib.fit(X_dev_vec_d, y_dev_d) \n",
    "\n",
    "#Investigate the accuracy of the training data\n",
    "print('Training Accuracy: ', A(sentiment_svc_lib, X_dev_vec_d, np.array(y_dev_d))) "
   ]
  },
  {
   "cell_type": "markdown",
   "metadata": {},
   "source": [
    "The accuracy value of the training data is very high and there might be a large difference with the test data. Perhaps we should fit a learning curve to investigate the bias and variance of the model and see whether we are over/under fitting."
   ]
  },
  {
   "cell_type": "markdown",
   "metadata": {},
   "source": [
    "### Make a learning curve"
   ]
  },
  {
   "cell_type": "code",
   "execution_count": null,
   "metadata": {},
   "outputs": [],
   "source": [
    "train_sizes_learn, train_scores_learn, test_scores_learn = \\\n",
    "    learning_curve(estimator= svc_lib,\n",
    "                     X=X_dev_vec_d,\n",
    "                     y=y_dev_d,\n",
    "                     train_sizes=np.linspace(0.1, 1.0, 10),\n",
    "                     scoring=A,                 \n",
    "                     cv=10)"
   ]
  },
  {
   "cell_type": "code",
   "execution_count": null,
   "metadata": {},
   "outputs": [],
   "source": [
    "acc_ = pd.DataFrame({'Train':train_scores_learn.mean(axis=1),\n",
    "                     'Test':test_scores_learn.mean(axis=1)})\\\n",
    "        .set_index(pd.Index(train_sizes_learn,name='sample size'))    \n",
    "print(acc_.head())"
   ]
  },
  {
   "cell_type": "code",
   "execution_count": null,
   "metadata": {},
   "outputs": [],
   "source": [
    "f_learn, ax = plt.subplots(figsize=(10,4))\n",
    "acc_.plot(ax=ax)\n",
    "ax.fill_between(train_sizes_learn,\n",
    "                train_scores_learn.mean(1) + train_scores_learn.std(1)*1.96,\n",
    "                train_scores_learn.mean(1) - train_scores_learn.std(1)*1.96, \n",
    "                alpha=0.25, \n",
    "                color='blue')\n",
    "ax.set_ylabel('Accuracy')\n",
    "\n",
    "print('This learning curve has too much variance')"
   ]
  },
  {
   "cell_type": "markdown",
   "metadata": {},
   "source": [
    "Because the learning curve shows a lot of variance we want to see whether we can optimize the regularization parameter of the support vector classifier. In particular we should consider setting the regularization parameter to a more conservative (thus lower) value.  We do this by making a validation curve plotting the training and test accuracy for several value of `C`."
   ]
  },
  {
   "cell_type": "markdown",
   "metadata": {},
   "source": [
    "### Make a validation curve"
   ]
  },
  {
   "cell_type": "code",
   "execution_count": null,
   "metadata": {},
   "outputs": [],
   "source": [
    "Cs = np.linspace(0.001, 5, 20)\n",
    "\n",
    "train_scores_val, test_scores_val = \\\n",
    "    validation_curve(estimator= svc_lib,\n",
    "                     X=X_dev_vec_d,\n",
    "                     y=y_dev_d,\n",
    "                     param_name='C',\n",
    "                     param_range=Cs,\n",
    "                     scoring=A,                 \n",
    "                     cv=10)"
   ]
  },
  {
   "cell_type": "code",
   "execution_count": null,
   "metadata": {},
   "outputs": [],
   "source": [
    "acc_ = pd.DataFrame({'Train':train_scores_val.mean(axis=1),\n",
    "                     'Test':test_scores_val.mean(axis=1)})\\\n",
    "        .set_index(pd.Index(Cs,name='regularization'))    \n",
    "print(acc_.head())"
   ]
  },
  {
   "cell_type": "code",
   "execution_count": null,
   "metadata": {},
   "outputs": [],
   "source": [
    "f_val, ax = plt.subplots(figsize=(10,4))\n",
    "acc_.plot(ax=ax)\n",
    "ax.fill_between(Cs,\n",
    "                train_scores_val.mean(1) + train_scores_val.std(1)*1.96,\n",
    "                train_scores_val.mean(1) - train_scores_val.std(1)*1.96, \n",
    "                alpha=0.25, \n",
    "                color='blue')\n",
    "ax.set_ylabel('Accuracy')"
   ]
  },
  {
   "cell_type": "markdown",
   "metadata": {},
   "source": [
    "We see that the average prediction accuracy (between training and test set) starts decreasing steeply after a `C` value of 1.5. Lets plot a more detailed validation curve for values lower than 1.5."
   ]
  },
  {
   "cell_type": "code",
   "execution_count": null,
   "metadata": {},
   "outputs": [],
   "source": [
    "Cs = np.linspace(0.001, 1.5, 20)\n",
    "\n",
    "train_scores_val, test_scores_val = \\\n",
    "    validation_curve(estimator= svc_lib,\n",
    "                     X=X_dev_vec_d,\n",
    "                     y=y_dev_d,\n",
    "                     param_name='C',\n",
    "                     param_range=Cs,\n",
    "                     scoring=A,                 \n",
    "                     cv=10)"
   ]
  },
  {
   "cell_type": "code",
   "execution_count": null,
   "metadata": {},
   "outputs": [],
   "source": [
    "acc_ = pd.DataFrame({'Train':train_scores_val.mean(axis=1),\n",
    "                     'Test':test_scores_val.mean(axis=1)})\\\n",
    "        .set_index(pd.Index(Cs,name='regularization'))    \n",
    "print(acc_.head())"
   ]
  },
  {
   "cell_type": "code",
   "execution_count": null,
   "metadata": {},
   "outputs": [],
   "source": [
    "f_val, ax = plt.subplots(figsize=(10,4))\n",
    "acc_.plot(ax=ax)\n",
    "ax.fill_between(Cs,\n",
    "                train_scores_val.mean(1) + train_scores_val.std(1)*1.96,\n",
    "                train_scores_val.mean(1) - train_scores_val.std(1)*1.96, \n",
    "                alpha=0.25, \n",
    "                color='blue')\n",
    "ax.set_ylabel('Accuracy')"
   ]
  },
  {
   "cell_type": "raw",
   "metadata": {},
   "source": [
    "We select a regularization setting `C` = 0.25 for which the the test accuracy is still within the confidence band of the training accuracy to see whether the learning curves improve."
   ]
  },
  {
   "cell_type": "markdown",
   "metadata": {},
   "source": [
    "### Make learning curve"
   ]
  },
  {
   "cell_type": "code",
   "execution_count": null,
   "metadata": {},
   "outputs": [],
   "source": [
    "svc_mod = LinearSVC(penalty = 'l1', C = 0.25, random_state = 1, dual = False) #moderate regularization"
   ]
  },
  {
   "cell_type": "code",
   "execution_count": null,
   "metadata": {},
   "outputs": [],
   "source": [
    "train_sizes_learn, train_scores_learn, test_scores_learn = \\\n",
    "    learning_curve(estimator= svc_mod,\n",
    "                     X=X_dev_vec_d,\n",
    "                     y=y_dev_d,\n",
    "                     train_sizes=np.linspace(0.1, 1.0, 10),\n",
    "                     scoring=A,                 \n",
    "                     cv=10)"
   ]
  },
  {
   "cell_type": "code",
   "execution_count": null,
   "metadata": {},
   "outputs": [],
   "source": [
    "acc_ = pd.DataFrame({'Train':train_scores_learn.mean(axis=1),\n",
    "                     'Test':test_scores_learn.mean(axis=1)})\\\n",
    "        .set_index(pd.Index(train_sizes_learn,name='sample size'))    \n",
    "print(acc_.head())"
   ]
  },
  {
   "cell_type": "code",
   "execution_count": null,
   "metadata": {},
   "outputs": [],
   "source": [
    "f_learn, ax = plt.subplots(figsize=(10,4))\n",
    "acc_.plot(ax=ax)\n",
    "ax.fill_between(train_sizes_learn,\n",
    "                train_scores_learn.mean(1) + train_scores_learn.std(1)*1.96,\n",
    "                train_scores_learn.mean(1) - train_scores_learn.std(1)*1.96, \n",
    "                alpha=0.25, \n",
    "                color='blue')\n",
    "ax.set_ylabel('Accuracy')\n",
    "\n",
    "print('Seems ok for our sample size')"
   ]
  },
  {
   "cell_type": "markdown",
   "metadata": {},
   "source": [
    "### Fit final support vector classification model to training and test data"
   ]
  },
  {
   "cell_type": "markdown",
   "metadata": {},
   "source": [
    "We now fit the final model, with `C` = 0.25 to our training and test data."
   ]
  },
  {
   "cell_type": "code",
   "execution_count": null,
   "metadata": {},
   "outputs": [],
   "source": [
    "sentiment_svc_mod = svc_mod.fit(X_dev_vec_d, y_dev_d)\n",
    "print('Training Accuracy: ', A(sentiment_svc_mod, X_dev_vec_d, y_dev_d))\n",
    "print('Test Accuracy: ', A(sentiment_svc_mod, X_test_vec_d, y_test_d))"
   ]
  },
  {
   "cell_type": "markdown",
   "metadata": {},
   "source": [
    "The training and test accuracy are now much lower and closer together. We can now investigate the estimated coeficients to the test data to see which tokens predict positive and negative reviews."
   ]
  },
  {
   "cell_type": "code",
   "execution_count": null,
   "metadata": {},
   "outputs": [],
   "source": [
    "#Put tokens and coefficients in one dataframe\n",
    "coef_tokens = pd.concat([pd.Series(tokens_d),\n",
    "                         pd.DataFrame(sentiment_svc_mod.coef_.T),\n",
    "                         abs(pd.DataFrame(sentiment_svc_mod.coef_.T))], axis = 1) \n",
    "coef_tokens.columns = ['Token', 'Coef', 'absCoef']\n",
    "\n",
    "\n",
    "\n",
    "\n",
    "#Count the amount of tokens with non-zero coefficient value\n",
    "print((coef_tokens['Coef'] != 0).value_counts()) "
   ]
  },
  {
   "cell_type": "code",
   "execution_count": null,
   "metadata": {},
   "outputs": [],
   "source": [
    "coef_tokens = coef_tokens[coef_tokens.Coef != 0] #remove tokens with zero coefficient value\n",
    "coef_tokens_sorted = coef_tokens.sort_values('absCoef', ascending = False)#sort and print to get highest and lowest coefficients\n",
    "print(coef_tokens_sorted[['Token', 'Coef', 'absCoef']]) \n"
   ]
  },
  {
   "cell_type": "markdown",
   "metadata": {},
   "source": [
    "Lets plot these:"
   ]
  },
  {
   "cell_type": "code",
   "execution_count": null,
   "metadata": {},
   "outputs": [],
   "source": [
    "top_features = 10\n",
    "\n",
    "top = coef_tokens_sorted.iloc[:20]\n",
    "print(top)\n",
    "top_sorted = top.sort_values('Coef')\n",
    "print(top_sorted)\n",
    "colors = ['red' if c > 0 else 'blue' for c in top_sorted['Coef']]\n",
    "\n",
    "\n",
    "barplot, ax = plt.subplots(figsize=(10,4))\n",
    "plt.tight_layout()\n",
    "plt.bar(np.arange(2 * top_features), top_sorted['Coef'], color=colors)\n",
    "features = np.array(top_sorted['Token'])\n",
    "plt.xticks(np.arange(0, 2 * top_features), top_sorted['Token'], rotation=60, ha='right')\n",
    "plt.yticks([-4, -2, 0, 2, 4])\n",
    "ax.spines['top'].set_visible(False) #remove borders\n",
    "ax.spines['right'].set_visible(False)\n",
    "ax.spines['bottom'].set_visible(True)\n",
    "ax.spines['left'].set_visible(True)\n",
    "#plt.tick_params(top='off', right='off')#control tick marks\n",
    "ax.axhline(y=0, xmin=0, xmax=11, color = 'black', linestyle = 'dashed', linewidth = 1)\n",
    "ax.tick_params(axis='both', which='major', labelsize=12) #change size of tick labels\n",
    "ax.set_ylabel(\"Coefficient\", fontsize=16)\n",
    "plt.gcf().subplots_adjust(bottom=0.22, left = 0.1)\n",
    "\n",
    "plt.savefig('CoefficientsSVC_d.png')"
   ]
  },
  {
   "cell_type": "markdown",
   "metadata": {},
   "source": [
    "<br><br><br><br>\n",
    "# Classification after September 2014"
   ]
  },
  {
   "cell_type": "markdown",
   "metadata": {},
   "source": [
    "<br><br>\n",
    "## Implement the logistic regression classifier"
   ]
  },
  {
   "cell_type": "markdown",
   "metadata": {},
   "source": [
    "First we naïvely fit the logistic regression classifier to the training data. We choose a value of 5 for the regularization parameter `C`. This is actually the inverse of the regularization strength so a lower value means stronger regularization. We use the `l1` penalty because we want to have a sparse solution (we want to set some coefficients to 0) for interpretation purposes."
   ]
  },
  {
   "cell_type": "code",
   "execution_count": null,
   "metadata": {},
   "outputs": [],
   "source": [
    "#First we naïvely fit the model:\n",
    "sentiment_logreg_lib = logreg_lib.fit(X_dev_vec_a, y_dev_a) \n",
    "\n",
    "#Investigate the accuracy of the training data\n",
    "print('Training Accuracy: ', A(sentiment_logreg_lib, X_dev_vec_a, np.array(y_dev_a))) "
   ]
  },
  {
   "cell_type": "markdown",
   "metadata": {},
   "source": [
    "The accuracy value of the training data is very high and there might be a large difference with the test data. Perhaps we should fit a learning curve to investigate the bias and variance of the model and see whether we are over/under fitting."
   ]
  },
  {
   "cell_type": "markdown",
   "metadata": {},
   "source": [
    "### Make a learning curve"
   ]
  },
  {
   "cell_type": "code",
   "execution_count": null,
   "metadata": {},
   "outputs": [],
   "source": [
    "from sklearn.model_selection import learning_curve\n",
    "\n",
    "train_sizes_learn, train_scores_learn, test_scores_learn = \\\n",
    "    learning_curve(estimator= logreg_lib,\n",
    "                   X=X_dev_vec_a,\n",
    "                   y=y_dev_a,\n",
    "                   train_sizes=np.linspace(0.1, 1.0, 10),\n",
    "                   scoring=A,                 \n",
    "                   cv=10)"
   ]
  },
  {
   "cell_type": "code",
   "execution_count": null,
   "metadata": {},
   "outputs": [],
   "source": [
    "acc_ = pd.DataFrame({'Train':train_scores_learn.mean(axis=1),\n",
    "                     'Test':test_scores_learn.mean(axis=1)})\\\n",
    "        .set_index(pd.Index(train_sizes_learn,name='sample size'))    \n",
    "print(acc_.head())"
   ]
  },
  {
   "cell_type": "code",
   "execution_count": null,
   "metadata": {},
   "outputs": [],
   "source": [
    "f_learn, ax = plt.subplots(figsize=(10,4))\n",
    "acc_.plot(ax=ax)\n",
    "ax.fill_between(train_sizes_learn,\n",
    "                train_scores_learn.mean(1) + train_scores_learn.std(1)*1.96,\n",
    "                train_scores_learn.mean(1) - train_scores_learn.std(1)*1.96, \n",
    "                alpha=0.25, \n",
    "                color='blue')\n",
    "ax.set_ylabel('Accuracy')\n",
    "\n",
    "print('This learning curve shows too much variance:')\n"
   ]
  },
  {
   "cell_type": "markdown",
   "metadata": {},
   "source": [
    "Because the learning curve shows a lot of variance we want to see whether we can optimize the regularization parameter of the logistic regression model. In particular we should consider setting the regularization parameter to a more conservative (thus lower) value.  We do this by making a validation curve plotting the training and test accuracy for several value of `C`."
   ]
  },
  {
   "cell_type": "markdown",
   "metadata": {},
   "source": [
    "### Make a validation curve"
   ]
  },
  {
   "cell_type": "code",
   "execution_count": null,
   "metadata": {},
   "outputs": [],
   "source": [
    "from sklearn.model_selection import validation_curve\n",
    "\n",
    "Cs = np.linspace(0.001, 5, 20)\n",
    "\n",
    "train_scores_val, test_scores_val = \\\n",
    "    validation_curve(estimator= logreg_lib,\n",
    "                     X=X_dev_vec_a,\n",
    "                     y=y_dev_a,\n",
    "                     param_name='C',\n",
    "                     param_range=Cs,\n",
    "                     scoring=A,                 \n",
    "                     cv=10)"
   ]
  },
  {
   "cell_type": "code",
   "execution_count": null,
   "metadata": {},
   "outputs": [],
   "source": [
    "acc_ = pd.DataFrame({'Train':train_scores_val.mean(axis=1),\n",
    "                     'Test':test_scores_val.mean(axis=1)})\\\n",
    "        .set_index(pd.Index(Cs,name='regularization'))    \n",
    "print(acc_.head())"
   ]
  },
  {
   "cell_type": "code",
   "execution_count": null,
   "metadata": {},
   "outputs": [],
   "source": [
    "f_val, ax = plt.subplots(figsize=(10,4))\n",
    "acc_.plot(ax=ax)\n",
    "ax.fill_between(Cs,\n",
    "                train_scores_val.mean(1) + train_scores_val.std(1)*1.96,\n",
    "                train_scores_val.mean(1) - train_scores_val.std(1)*1.96, \n",
    "                alpha=0.25, \n",
    "                color='blue')\n",
    "ax.set_ylabel('Accuracy')"
   ]
  },
  {
   "cell_type": "markdown",
   "metadata": {},
   "source": [
    "We see that the average prediction accuracy (between training and test set) starts decreasing steeply after a `C` value of 1. Lets plot a more detailed validation curve for values lower than 1."
   ]
  },
  {
   "cell_type": "code",
   "execution_count": null,
   "metadata": {},
   "outputs": [],
   "source": [
    "Cs = np.linspace(0.001, 1, 20)\n",
    "\n",
    "train_scores_val, test_scores_val = \\\n",
    "    validation_curve(estimator= logreg_lib,\n",
    "                     X=X_dev_vec_a,\n",
    "                     y=y_dev_a,\n",
    "                     param_name='C',\n",
    "                     param_range=Cs,\n",
    "                     scoring=A,                 \n",
    "                     cv=10)"
   ]
  },
  {
   "cell_type": "code",
   "execution_count": null,
   "metadata": {},
   "outputs": [],
   "source": [
    "acc_ = pd.DataFrame({'Train':train_scores_val.mean(axis=1),\n",
    "                     'Test':test_scores_val.mean(axis=1)})\\\n",
    "        .set_index(pd.Index(Cs,name='regularization'))    \n",
    "print(acc_.head())"
   ]
  },
  {
   "cell_type": "code",
   "execution_count": null,
   "metadata": {},
   "outputs": [],
   "source": [
    "f_val, ax = plt.subplots(figsize=(10,4))\n",
    "acc_.plot(ax=ax)\n",
    "ax.fill_between(Cs,\n",
    "                train_scores_val.mean(1) + train_scores_val.std(1)*1.96,\n",
    "                train_scores_val.mean(1) - train_scores_val.std(1)*1.96, \n",
    "                alpha=0.25, \n",
    "                color='blue')\n",
    "ax.set_ylabel('Accuracy')"
   ]
  },
  {
   "cell_type": "markdown",
   "metadata": {},
   "source": [
    "We select a regularization setting for which the test accuracy `C` = 0.6 is still within the confidence bands of the training accuracy to see whether the learning curves improve."
   ]
  },
  {
   "cell_type": "markdown",
   "metadata": {},
   "source": [
    "### Make learning curve"
   ]
  },
  {
   "cell_type": "code",
   "execution_count": null,
   "metadata": {},
   "outputs": [],
   "source": [
    "logreg_mod = LogisticRegression(penalty = 'l1', C = 0.6, random_state = 1) #moderate regularization"
   ]
  },
  {
   "cell_type": "code",
   "execution_count": null,
   "metadata": {},
   "outputs": [],
   "source": [
    "train_sizes_learn, train_scores_learn, test_scores_learn = \\\n",
    "    learning_curve(estimator= logreg_mod,\n",
    "                   X=X_dev_vec_a,\n",
    "                   y=y_dev_a,\n",
    "                   train_sizes=np.linspace(0.1, 1.0, 10),\n",
    "                   scoring=A,                 \n",
    "                   cv=10)"
   ]
  },
  {
   "cell_type": "code",
   "execution_count": null,
   "metadata": {},
   "outputs": [],
   "source": [
    "acc_ = pd.DataFrame({'Train':train_scores_learn.mean(axis=1),\n",
    "                     'Test':test_scores_learn.mean(axis=1)})\\\n",
    "        .set_index(pd.Index(train_sizes_learn,name='sample size')) \n",
    "print(acc_.head())"
   ]
  },
  {
   "cell_type": "code",
   "execution_count": null,
   "metadata": {},
   "outputs": [],
   "source": [
    "f_learn, ax = plt.subplots(figsize=(10,4))\n",
    "acc_.plot(ax=ax)\n",
    "ax.fill_between(train_sizes_learn,\n",
    "                train_scores_learn.mean(1) + train_scores_learn.std(1)*1.96,\n",
    "                train_scores_learn.mean(1) - train_scores_learn.std(1)*1.96, \n",
    "                alpha=0.25, \n",
    "                color='blue')\n",
    "ax.set_ylabel('Accuracy')\n",
    "\n",
    "print('This learning curve looks ok regarding the size of our training data (+/- 1000):')"
   ]
  },
  {
   "cell_type": "markdown",
   "metadata": {},
   "source": [
    "### Fit final logistic regression classification model to training and test data"
   ]
  },
  {
   "cell_type": "markdown",
   "metadata": {},
   "source": [
    "We now fit the final model, with `C` = 0.6 to our training and test data."
   ]
  },
  {
   "cell_type": "code",
   "execution_count": null,
   "metadata": {},
   "outputs": [],
   "source": [
    "sentiment_logreg_mod = logreg_mod.fit(X_dev_vec_a, y_dev_a)\n",
    "print('Training Accuracy: ', A(sentiment_logreg_mod, X_dev_vec_a, y_dev_a))\n",
    "print('Test Accuracy: ', A(sentiment_logreg_mod, X_test_vec_a, y_test_a))"
   ]
  },
  {
   "cell_type": "markdown",
   "metadata": {},
   "source": [
    "The training is much lower and it is reasonably close to the test accuracy. We can now investigate the estimated coeficients to the test data to see which tokens predict positive and negative reviews."
   ]
  },
  {
   "cell_type": "code",
   "execution_count": null,
   "metadata": {},
   "outputs": [],
   "source": [
    "#Put tokens, coefficients and odds ratios in one dataframe\n",
    "coef_tokens = pd.concat([pd.Series(tokens_a),\n",
    "                         pd.DataFrame(sentiment_logreg_mod.coef_.T),\n",
    "                         abs(pd.DataFrame(sentiment_logreg_mod.coef_.T)),\n",
    "                         pd.DataFrame(np.exp(sentiment_logreg_mod.coef_).T)], axis = 1) \n",
    "coef_tokens.columns = ['Token', 'Coef', 'absCoef', 'OR']\n",
    "\n",
    "#Count the amount of tokens with non-zero coefficient value\n",
    "print((coef_tokens['Coef'] != 0).value_counts()) "
   ]
  },
  {
   "cell_type": "code",
   "execution_count": null,
   "metadata": {
    "scrolled": true
   },
   "outputs": [],
   "source": [
    "coef_tokens = coef_tokens[coef_tokens.Coef != 0] #remove tokens with zero coefficient value and exponentiate to get odds ratio\n",
    "coef_tokens_sorted = coef_tokens.sort_values('absCoef', ascending = False)\n",
    "print(coef_tokens_sorted[['Token', 'Coef','absCoef', 'OR']]) #sort and print to get highest and lowest coefficients"
   ]
  },
  {
   "cell_type": "markdown",
   "metadata": {},
   "source": [
    "Now lets plot these:"
   ]
  },
  {
   "cell_type": "code",
   "execution_count": null,
   "metadata": {},
   "outputs": [],
   "source": [
    "top_features = 10\n",
    "\n",
    "top = coef_tokens_sorted.iloc[:20]\n",
    "print(top)\n",
    "top_sorted = top.sort_values('Coef')\n",
    "print(top_sorted)\n",
    "colors = ['red' if c > 0 else 'blue' for c in top_sorted['Coef']]\n",
    "\n",
    "\n",
    "barplot, ax = plt.subplots(figsize=(10,4))\n",
    "plt.tight_layout()\n",
    "plt.bar(np.arange(2 * top_features), top_sorted['Coef'], color=colors)\n",
    "features = np.array(top_sorted['Token'])\n",
    "plt.xticks(np.arange(0, 2 * top_features), top_sorted['Token'], rotation=60, ha='right')\n",
    "plt.yticks([-10, -5, 0, 5, 10])\n",
    "ax.spines['top'].set_visible(False) #remove borders\n",
    "ax.spines['right'].set_visible(False)\n",
    "ax.spines['bottom'].set_visible(True)\n",
    "ax.spines['left'].set_visible(True)\n",
    "#plt.tick_params(top='off', right='off')#control tick marks\n",
    "ax.axhline(y=0, xmin=0, xmax=11, color = 'black', linestyle = 'dashed', linewidth = 1)\n",
    "ax.tick_params(axis='both', which='major', labelsize=12) #change size of tick labels\n",
    "ax.set_ylabel(\"Coefficient\", fontsize=16)\n",
    "plt.gcf().subplots_adjust(bottom=0.22, left = 0.1)\n",
    "plt.savefig('CoefficientsLogistic_a.png')"
   ]
  },
  {
   "cell_type": "markdown",
   "metadata": {},
   "source": [
    "<br><br>\n",
    "## Implement the Naive Bayes Classifier"
   ]
  },
  {
   "cell_type": "markdown",
   "metadata": {},
   "source": [
    "First we naïvely fit the Naive Bayes classifier to the training data. "
   ]
  },
  {
   "cell_type": "code",
   "execution_count": null,
   "metadata": {},
   "outputs": [],
   "source": [
    "sentiment_NB = NB.fit(X_dev_vec_a.toarray(), y_dev_a) #need to convert to np array, not sparse\n",
    "\n",
    "print('Training Accuracy: ', A(sentiment_NB, X_dev_vec_a.toarray(), np.array(y_dev_a)))"
   ]
  },
  {
   "cell_type": "markdown",
   "metadata": {},
   "source": [
    "The accuracy value of the training data is low. Perhaps we should fit a learning curve to investigate the bias and variance of the model and see whether we are over/under fitting."
   ]
  },
  {
   "cell_type": "markdown",
   "metadata": {},
   "source": [
    "### Make a learning curve"
   ]
  },
  {
   "cell_type": "code",
   "execution_count": null,
   "metadata": {},
   "outputs": [],
   "source": [
    "train_sizes_learn, train_scores_learn, test_scores_learn = \\\n",
    "    learning_curve(estimator= NB,\n",
    "                   X=X_dev_vec_a.toarray(),\n",
    "                   y=y_dev_a,\n",
    "                   train_sizes=np.linspace(0.1, 1.0, 10),\n",
    "                   scoring=A,                 \n",
    "                   cv=10)"
   ]
  },
  {
   "cell_type": "code",
   "execution_count": null,
   "metadata": {},
   "outputs": [],
   "source": [
    "acc_ = pd.DataFrame({'Train':train_scores_learn.mean(axis=1),\n",
    "                     'Test':test_scores_learn.mean(axis=1)})\\\n",
    "        .set_index(pd.Index(train_sizes_learn,name='sample size'))    \n",
    "print(acc_.head())"
   ]
  },
  {
   "cell_type": "code",
   "execution_count": null,
   "metadata": {},
   "outputs": [],
   "source": [
    "f_learn, ax = plt.subplots(figsize=(10,4))\n",
    "acc_.plot(ax=ax)\n",
    "ax.fill_between(train_sizes_learn,\n",
    "                train_scores_learn.mean(1) + train_scores_learn.std(1)*1.96,\n",
    "                train_scores_learn.mean(1) - train_scores_learn.std(1)*1.96, \n",
    "                alpha=0.25, \n",
    "                color='blue')\n",
    "ax.set_ylabel('Accuracy')\n",
    "\n",
    "print('There is too much bias and variance according to this learning curve:')"
   ]
  },
  {
   "cell_type": "markdown",
   "metadata": {},
   "source": [
    "Because the learning curve shows a lot of bias we want to see whether we can optimize the prior of the Naive Bayes classifier. This may be a controversial idea. Ideally, when we fit Bayesian models we need to specify a prior, that reflects our belief about the 'truth', in this case the proportion of negative and positive sentiments, before we fit a model. These prior probabilities could for example be derived from our knowledge of the proportions in the wider population, perhaps gained from  the literature. It would thus be odd to optimize a model based on the prior. We may also consider setting the prior to the proportions from the training set; this is what is done by default in the Naive Bayes classifier from sklearn. According to http://citeseerx.ist.psu.edu/viewdoc/download?doi=10.1.1.59.2085&rep=rep1&type=pdf putting a uniform prior may actually improve performance. "
   ]
  },
  {
   "cell_type": "code",
   "execution_count": null,
   "metadata": {},
   "outputs": [],
   "source": [
    "NB_unif = BernoulliNB(class_prior = [0.5, 0.5])"
   ]
  },
  {
   "cell_type": "code",
   "execution_count": null,
   "metadata": {},
   "outputs": [],
   "source": [
    "train_sizes_learn, train_scores_learn, test_scores_learn = \\\n",
    "    learning_curve(estimator= NB_unif,\n",
    "                   X=X_dev_vec_a.toarray(),\n",
    "                   y=y_dev_a,\n",
    "                   train_sizes=np.linspace(0.1, 1.0, 10),\n",
    "                   scoring=A,                 \n",
    "                   cv=10)"
   ]
  },
  {
   "cell_type": "code",
   "execution_count": null,
   "metadata": {},
   "outputs": [],
   "source": [
    "acc_ = pd.DataFrame({'Train':train_scores_learn.mean(axis=1),\n",
    "                     'Test':test_scores_learn.mean(axis=1)})\\\n",
    "        .set_index(pd.Index(train_sizes_learn,name='sample size'))    \n",
    "print(acc_.head())"
   ]
  },
  {
   "cell_type": "code",
   "execution_count": null,
   "metadata": {},
   "outputs": [],
   "source": [
    "f_learn, ax = plt.subplots(figsize=(10,4))\n",
    "acc_.plot(ax=ax)\n",
    "ax.fill_between(train_sizes_learn,\n",
    "                train_scores_learn.mean(1) + train_scores_learn.std(1)*1.96,\n",
    "                train_scores_learn.mean(1) - train_scores_learn.std(1)*1.96, \n",
    "                alpha=0.25, \n",
    "                color='blue')\n",
    "ax.set_ylabel('Accuracy')\n",
    "\n",
    "print('This looks very much like the curve above:')"
   ]
  },
  {
   "cell_type": "markdown",
   "metadata": {},
   "source": [
    "Since adapting the prior does not see to change the learning curve a lot we could try to optimize the smoothing parameter `alpha`. This parameter determines the smooting of the prior and accounts for features not present in the learning samples and prevents zero probabilities in further computations. "
   ]
  },
  {
   "cell_type": "markdown",
   "metadata": {},
   "source": [
    "### Make a Validation curve"
   ]
  },
  {
   "cell_type": "code",
   "execution_count": null,
   "metadata": {},
   "outputs": [],
   "source": [
    "alphas = np.linspace(0.001, 5, 20)\n",
    "\n",
    "train_scores_val, test_scores_val = \\\n",
    "    validation_curve(estimator= NB,\n",
    "                     X=X_dev_vec_a,\n",
    "                     y=y_dev_a,\n",
    "                     param_name='alpha',\n",
    "                     param_range=alphas,\n",
    "                     scoring=A,                 \n",
    "                     cv=10)"
   ]
  },
  {
   "cell_type": "code",
   "execution_count": null,
   "metadata": {},
   "outputs": [],
   "source": [
    "acc_ = pd.DataFrame({'Train':train_scores_val.mean(axis=1),\n",
    "                     'Test':test_scores_val.mean(axis=1)})\\\n",
    "        .set_index(pd.Index(alphas,name='smoothing'))    \n",
    "print(acc_.head())"
   ]
  },
  {
   "cell_type": "code",
   "execution_count": null,
   "metadata": {},
   "outputs": [],
   "source": [
    "f_val, ax = plt.subplots(figsize=(10,4))\n",
    "acc_.plot(ax=ax)\n",
    "ax.fill_between(alphas,\n",
    "                train_scores_val.mean(1) + train_scores_val.std(1)*1.96,\n",
    "                train_scores_val.mean(1) - train_scores_val.std(1)*1.96, \n",
    "                alpha=0.25, \n",
    "                color='blue')\n",
    "ax.set_ylabel('Accuracy')\n",
    "print('There is a decrease in bias for lower alpha values, \\nthe variance however becomes larger:')"
   ]
  },
  {
   "cell_type": "markdown",
   "metadata": {},
   "source": [
    "We  set the `alpha` parameter to 3 for the best variance-bias tradeoff.. "
   ]
  },
  {
   "cell_type": "markdown",
   "metadata": {},
   "source": [
    "### Fit the final naive Bayes classifier to the training and test data"
   ]
  },
  {
   "cell_type": "markdown",
   "metadata": {},
   "source": [
    "We now fit the final model to our training and test data"
   ]
  },
  {
   "cell_type": "code",
   "execution_count": null,
   "metadata": {},
   "outputs": [],
   "source": [
    "NB_adj_alpha = BernoulliNB(alpha = 3)\n",
    "\n",
    "sentiment_NB_adj = NB_adj_alpha.fit(X_dev_vec_a.toarray(), np.array(y_dev_a)) \n",
    "\n",
    "print('Training Accuracy: ', A(sentiment_NB_adj, X_dev_vec_a.toarray(), np.array(y_dev_a)))\n",
    "print('Test Accuracy: ', A(sentiment_NB_adj, X_test_vec_a.toarray(), np.array(y_test_a)))"
   ]
  },
  {
   "cell_type": "code",
   "execution_count": null,
   "metadata": {},
   "outputs": [],
   "source": [
    "#Put tokens and coefficients in one dataframe\n",
    "feat_prob = pd.DataFrame(np.exp(sentiment_NB.feature_log_prob_).T)\n",
    "feat_prob.columns = ['Negative', \"Positive\"]\n",
    "\n",
    "#compute the ratio of probability of being predicted as a negative vs positive sentiment divided by the sum of probabilities\n",
    "feat_prob_ratio_neg = (feat_prob['Negative']/feat_prob['Positive'])*(feat_prob['Negative'])\n",
    "feat_prob_ratio_pos = (feat_prob['Positive']/feat_prob['Negative'])*(feat_prob['Positive'])\n",
    "\n",
    "coef_tokens = pd.concat([pd.Series(tokens_b), feat_prob, feat_prob_ratio_neg, feat_prob_ratio_pos], axis = 1) \n",
    "coef_tokens.columns = ['Token', 'Negative', \"Positive\", \"RatioNP\", 'RatioPN']\n",
    "\n",
    "\n",
    "#Sort\n",
    "\n",
    "coef_tokens['highest'] = abs(coef_tokens[[\"RatioNP\", \"RatioPN\"]]).max(axis=1)\n",
    "coef_high = coef_tokens.sort_values('highest', ascending = False)\n",
    "coef_high['color'] = (coef_high['RatioNP'] > coef_high['RatioPN']).replace([False, True], ['red', 'blue'])\n",
    "coef_high_sorted_neg = coef_tokens.sort_values(['RatioNP'], ascending = False)\n",
    "coef_high_sorted_pos = coef_tokens.sort_values(['RatioPN'], ascending = False)\n",
    "\n",
    "#Print\n",
    "print(coef_high.head(20))"
   ]
  },
  {
   "cell_type": "markdown",
   "metadata": {},
   "source": [
    "Lets plot these:"
   ]
  },
  {
   "cell_type": "code",
   "execution_count": null,
   "metadata": {},
   "outputs": [],
   "source": [
    "top_features = 20\n",
    "\n",
    "top = coef_high.iloc[:top_features].sort_values(['RatioNP'], ascending = False)\n",
    "colors = top['color']\n",
    "\n",
    "barplot, ax = plt.subplots(figsize=(10,4))\n",
    "plt.tight_layout()\n",
    "plt.bar(np.arange(top_features), top.highest, color = colors)\n",
    "features = top.Token\n",
    "plt.xticks(np.arange(0, top_features), features, rotation=60, ha='right')\n",
    "\n",
    "ax.spines['top'].set_visible(False) #remove borders\n",
    "ax.spines['right'].set_visible(False)\n",
    "ax.spines['bottom'].set_visible(True)\n",
    "ax.spines['left'].set_visible(True)\n",
    "\n",
    "ax.tick_params(axis='both', which='major', labelsize=12) #change size of tick labels\n",
    "ax.set_ylabel(\"Discrimination\", fontsize=16)\n",
    "\n",
    "print(features)\n",
    "plt.gcf().subplots_adjust(bottom=0.22, left = 0.1)\n",
    "plt.savefig('CoefficientsEB_a.png')"
   ]
  },
  {
   "cell_type": "markdown",
   "metadata": {},
   "source": [
    "<br><br>\n",
    "## Implement a support vector classifier"
   ]
  },
  {
   "cell_type": "markdown",
   "metadata": {},
   "source": [
    "First we naïvely fit the support vector classifier to the training data. We choose a value of 5 for the regularization parameter `C`. This is actually the inverse of the regularization strength so a lower value means stronger regularization. We use the `l1` penalty because we want to have a sparse solution (we want to set some coefficients to 0) for interpretation purposes."
   ]
  },
  {
   "cell_type": "code",
   "execution_count": null,
   "metadata": {},
   "outputs": [],
   "source": [
    "#First we naïvely fit the model:\n",
    "sentiment_svc_lib = svc_lib.fit(X_dev_vec_a, y_dev_a) \n",
    "\n",
    "#Investigate the accuracy of the training data\n",
    "print('Training Accuracy: ', A(sentiment_svc_lib, X_dev_vec_a, np.array(y_dev_a))) "
   ]
  },
  {
   "cell_type": "markdown",
   "metadata": {},
   "source": [
    "The accuracy value of the training data is very high and theremight be a large difference with the test data. Perhaps we should fit a learning curve to investigate the bias and variance of the model and see whether we are over/under fitting."
   ]
  },
  {
   "cell_type": "markdown",
   "metadata": {},
   "source": [
    "### Make a learning curve"
   ]
  },
  {
   "cell_type": "code",
   "execution_count": null,
   "metadata": {},
   "outputs": [],
   "source": [
    "train_sizes_learn, train_scores_learn, test_scores_learn = \\\n",
    "    learning_curve(estimator= svc_lib,\n",
    "                     X=X_dev_vec_a,\n",
    "                     y=y_dev_a,\n",
    "                     train_sizes=np.linspace(0.1, 1.0, 10),\n",
    "                     scoring=A,                 \n",
    "                     cv=10)"
   ]
  },
  {
   "cell_type": "code",
   "execution_count": null,
   "metadata": {},
   "outputs": [],
   "source": [
    "acc_ = pd.DataFrame({'Train':train_scores_learn.mean(axis=1),\n",
    "                     'Test':test_scores_learn.mean(axis=1)})\\\n",
    "        .set_index(pd.Index(train_sizes_learn,name='sample size'))    \n",
    "print(acc_.head())"
   ]
  },
  {
   "cell_type": "code",
   "execution_count": null,
   "metadata": {},
   "outputs": [],
   "source": [
    "f_learn, ax = plt.subplots(figsize=(10,4))\n",
    "acc_.plot(ax=ax)\n",
    "ax.fill_between(train_sizes_learn,\n",
    "                train_scores_learn.mean(1) + train_scores_learn.std(1)*1.96,\n",
    "                train_scores_learn.mean(1) - train_scores_learn.std(1)*1.96, \n",
    "                alpha=0.25, \n",
    "                color='blue')\n",
    "ax.set_ylabel('Accuracy')\n",
    "\n",
    "print('This learning plot has too much variance')"
   ]
  },
  {
   "cell_type": "markdown",
   "metadata": {},
   "source": [
    "Because the learning curve shows a lot of variance we want to see whether we can optimize the regularization parameter of the support vector classifier. In particular we should consider setting the regularization parameter to a more conservative (thus lower) value.  We do this by making a validation curve plotting the training and test accuracy for several value of `C`."
   ]
  },
  {
   "cell_type": "markdown",
   "metadata": {},
   "source": [
    "### Make a validation curve"
   ]
  },
  {
   "cell_type": "code",
   "execution_count": null,
   "metadata": {},
   "outputs": [],
   "source": [
    "Cs = np.linspace(0.001, 5, 20)\n",
    "\n",
    "train_scores_val, test_scores_val = \\\n",
    "    validation_curve(estimator= svc_lib,\n",
    "                     X=X_dev_vec_a,\n",
    "                     y=y_dev_a,\n",
    "                     param_name='C',\n",
    "                     param_range=Cs,\n",
    "                     scoring=A,                 \n",
    "                     cv=10)"
   ]
  },
  {
   "cell_type": "code",
   "execution_count": null,
   "metadata": {},
   "outputs": [],
   "source": [
    "acc_ = pd.DataFrame({'Train':train_scores_val.mean(axis=1),\n",
    "                     'Test':test_scores_val.mean(axis=1)})\\\n",
    "        .set_index(pd.Index(Cs,name='regularization'))    \n",
    "print(acc_.head())"
   ]
  },
  {
   "cell_type": "code",
   "execution_count": null,
   "metadata": {},
   "outputs": [],
   "source": [
    "f_val, ax = plt.subplots(figsize=(10,4))\n",
    "acc_.plot(ax=ax)\n",
    "ax.fill_between(Cs,\n",
    "                train_scores_val.mean(1) + train_scores_val.std(1)*1.96,\n",
    "                train_scores_val.mean(1) - train_scores_val.std(1)*1.96, \n",
    "                alpha=0.25, \n",
    "                color='blue')\n",
    "ax.set_ylabel('Accuracy')"
   ]
  },
  {
   "cell_type": "markdown",
   "metadata": {},
   "source": [
    "We see that the average prediction accuracy (between training and test set) starts decreasing steeply after a `C` value of 0.3. Lets plot a more detailed validation curve for values lower than 0.3."
   ]
  },
  {
   "cell_type": "code",
   "execution_count": null,
   "metadata": {},
   "outputs": [],
   "source": [
    "Cs = np.linspace(0.001, 0.3, 20)\n",
    "\n",
    "train_scores_val, test_scores_val = \\\n",
    "    validation_curve(estimator= svc_lib,\n",
    "                     X=X_dev_vec_a,\n",
    "                     y=y_dev_a,\n",
    "                     param_name='C',\n",
    "                     param_range=Cs,\n",
    "                     scoring=A,                 \n",
    "                     cv=10)"
   ]
  },
  {
   "cell_type": "code",
   "execution_count": null,
   "metadata": {},
   "outputs": [],
   "source": [
    "acc_ = pd.DataFrame({'Train':train_scores_val.mean(axis=1),\n",
    "                     'Test':test_scores_val.mean(axis=1)})\\\n",
    "        .set_index(pd.Index(Cs,name='regularization'))    \n",
    "print(acc_.head())"
   ]
  },
  {
   "cell_type": "code",
   "execution_count": null,
   "metadata": {},
   "outputs": [],
   "source": [
    "f_val, ax = plt.subplots(figsize=(10,4))\n",
    "acc_.plot(ax=ax)\n",
    "ax.fill_between(Cs,\n",
    "                train_scores_val.mean(1) + train_scores_val.std(1)*1.96,\n",
    "                train_scores_val.mean(1) - train_scores_val.std(1)*1.96, \n",
    "                alpha=0.25, \n",
    "                color='blue')\n",
    "ax.set_ylabel('Accuracy')"
   ]
  },
  {
   "cell_type": "markdown",
   "metadata": {},
   "source": [
    "We select a regularization setting `C` = 0.10 for which the test accuracy is still within the confidence bands of the training accuracy to see whether the learning curves improve."
   ]
  },
  {
   "cell_type": "markdown",
   "metadata": {},
   "source": [
    "### Make learning curve"
   ]
  },
  {
   "cell_type": "code",
   "execution_count": null,
   "metadata": {},
   "outputs": [],
   "source": [
    "svc_mod = LinearSVC(penalty = 'l1', C = 0.10, random_state = 1, dual = False)"
   ]
  },
  {
   "cell_type": "code",
   "execution_count": null,
   "metadata": {},
   "outputs": [],
   "source": [
    "train_sizes_learn, train_scores_learn, test_scores_learn = \\\n",
    "    learning_curve(estimator= svc_mod,\n",
    "                     X=X_dev_vec_a,\n",
    "                     y=y_dev_a,\n",
    "                     train_sizes=np.linspace(0.1, 1.0, 10),\n",
    "                     scoring=A,                 \n",
    "                     cv=10)"
   ]
  },
  {
   "cell_type": "code",
   "execution_count": null,
   "metadata": {},
   "outputs": [],
   "source": [
    "acc_ = pd.DataFrame({'Train':train_scores_learn.mean(axis=1),\n",
    "                     'Test':test_scores_learn.mean(axis=1)})\\\n",
    "        .set_index(pd.Index(train_sizes_learn,name='sample size'))    \n",
    "print(acc_.head())"
   ]
  },
  {
   "cell_type": "code",
   "execution_count": null,
   "metadata": {},
   "outputs": [],
   "source": [
    "f_learn, ax = plt.subplots(figsize=(10,4))\n",
    "acc_.plot(ax=ax)\n",
    "ax.fill_between(train_sizes_learn,\n",
    "                train_scores_learn.mean(1) + train_scores_learn.std(1)*1.96,\n",
    "                train_scores_learn.mean(1) - train_scores_learn.std(1)*1.96, \n",
    "                alpha=0.25, \n",
    "                color='blue')\n",
    "ax.set_ylabel('Accuracy')\n",
    "\n",
    "print('Seems ok for our training size')"
   ]
  },
  {
   "cell_type": "markdown",
   "metadata": {},
   "source": [
    "### Fit final support vector classification model to training and test data"
   ]
  },
  {
   "cell_type": "markdown",
   "metadata": {},
   "source": [
    "We now fit the final model, with `C` = 0.10 to our training and test data."
   ]
  },
  {
   "cell_type": "code",
   "execution_count": null,
   "metadata": {},
   "outputs": [],
   "source": [
    "sentiment_svc_mod = svc_mod.fit(X_dev_vec_a, y_dev_a)\n",
    "print('Training Accuracy: ', A(sentiment_svc_mod, X_dev_vec_a, y_dev_a))\n",
    "print('Test Accuracy: ', A(sentiment_svc_mod, X_test_vec_a, y_test_a))"
   ]
  },
  {
   "cell_type": "markdown",
   "metadata": {},
   "source": [
    "The training and test accuracy are now much lower and closer together. We can now investigate the estimated coeficients to the test data to see which tokens predict positive and negative reviews."
   ]
  },
  {
   "cell_type": "code",
   "execution_count": null,
   "metadata": {},
   "outputs": [],
   "source": [
    "#Put tokens and coefficients in one dataframe\n",
    "coef_tokens = pd.concat([pd.Series(tokens_a), pd.DataFrame(sentiment_svc_mod.coef_.T)], axis = 1) \n",
    "coef_tokens.columns = ['Token', 'Coef']\n",
    "\n",
    "#Count the amount of tokens with non-zero coefficient value\n",
    "print((coef_tokens['Coef'] != 0).value_counts()) "
   ]
  },
  {
   "cell_type": "code",
   "execution_count": null,
   "metadata": {},
   "outputs": [],
   "source": [
    "coef_tokens = coef_tokens[coef_tokens.Coef != 0] #remove tokens with zero coefficient value\n",
    "coef_tokens_sorted = coef_tokens.sort_values('Coef')#sort and print to get highest and lowest coefficients\n",
    "print(coef_tokens_sorted[['Token', 'Coef']]) \n"
   ]
  },
  {
   "cell_type": "markdown",
   "metadata": {},
   "source": [
    "Lets plot these:"
   ]
  },
  {
   "cell_type": "code",
   "execution_count": null,
   "metadata": {},
   "outputs": [],
   "source": [
    "top_features = 14\n",
    "top_features_p = 5\n",
    "top_features_n = 9\n",
    "\n",
    "top_pos_coef = coef_tokens_sorted.iloc[-top_features_p:]\n",
    "top_neg_coef = coef_tokens_sorted.iloc[:top_features_n]\n",
    "top = pd.concat([top_pos_coef, top_neg_coef], axis = 0).sort_values('Coef')\n",
    "print(top)\n",
    "colors = ['red' if c > 0 else 'blue' for c in top['Coef']]\n",
    "\n",
    "\n",
    "barplot, ax = plt.subplots(figsize=(10,4))\n",
    "plt.tight_layout()\n",
    "plt.bar(np.arange(top_features), top['Coef'], color=colors)\n",
    "features = np.array(top['Token'])\n",
    "plt.xticks(np.arange(0, top_features), top['Token'], rotation=60, ha='right')\n",
    "plt.yticks([ -4, -2, 0, 2, 4])\n",
    "ax.spines['top'].set_visible(False) #remove borders\n",
    "ax.spines['right'].set_visible(False)\n",
    "ax.spines['bottom'].set_visible(True)\n",
    "ax.spines['left'].set_visible(True)\n",
    "#plt.tick_params(top='off', right='off')#control tick marks\n",
    "ax.axhline(y=0, xmin=0, xmax=20, color = 'black', linestyle = 'dashed', linewidth = 1)\n",
    "ax.tick_params(axis='both', which='major', labelsize=12) #change size of tick labels\n",
    "ax.set_ylabel(\"Vector Coordinate\", fontsize=16)\n",
    "\n",
    "plt.gcf().subplots_adjust(bottom=0.22, left = 0.1)\n",
    "plt.savefig('CoefficientsSVC_a.png')"
   ]
  }
 ],
 "metadata": {
  "kernelspec": {
   "display_name": "Python 3",
   "language": "python",
   "name": "python3"
  },
  "language_info": {
   "codemirror_mode": {
    "name": "ipython",
    "version": 3
   },
   "file_extension": ".py",
   "mimetype": "text/x-python",
   "name": "python",
   "nbconvert_exporter": "python",
   "pygments_lexer": "ipython3",
   "version": "3.6.5"
  }
 },
 "nbformat": 4,
 "nbformat_minor": 2
}
